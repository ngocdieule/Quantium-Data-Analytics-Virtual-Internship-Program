{
 "cells": [
  {
   "cell_type": "markdown",
   "id": "645da718",
   "metadata": {},
   "source": [
    "# **IMPORT LIBRARIES**"
   ]
  },
  {
   "cell_type": "code",
   "execution_count": 45,
   "id": "9fd325b1",
   "metadata": {},
   "outputs": [],
   "source": [
    "import pandas as pd\n",
    "import numpy as np\n",
    "import matplotlib.pyplot as plt\n",
    "import seaborn as sns\n",
    "import plotly.express as px\n",
    "\n",
    "import re\n",
    "from collections import Counter\n",
    "\n",
    "from scipy.stats import ttest_ind"
   ]
  },
  {
   "cell_type": "markdown",
   "id": "70ccbdfd",
   "metadata": {},
   "source": [
    "# **DATA CLEANING**"
   ]
  },
  {
   "cell_type": "code",
   "execution_count": 2,
   "id": "b8b69815",
   "metadata": {},
   "outputs": [],
   "source": [
    "transaction_data = pd.read_excel('QVI_transaction_data.xlsx')"
   ]
  },
  {
   "cell_type": "code",
   "execution_count": 3,
   "id": "5e88bb2b",
   "metadata": {},
   "outputs": [
    {
     "name": "stdout",
     "output_type": "stream",
     "text": [
      "<class 'pandas.core.frame.DataFrame'>\n",
      "RangeIndex: 264836 entries, 0 to 264835\n",
      "Data columns (total 8 columns):\n",
      " #   Column          Non-Null Count   Dtype  \n",
      "---  ------          --------------   -----  \n",
      " 0   DATE            264836 non-null  int64  \n",
      " 1   STORE_NBR       264836 non-null  int64  \n",
      " 2   LYLTY_CARD_NBR  264836 non-null  int64  \n",
      " 3   TXN_ID          264836 non-null  int64  \n",
      " 4   PROD_NBR        264836 non-null  int64  \n",
      " 5   PROD_NAME       264836 non-null  object \n",
      " 6   PROD_QTY        264836 non-null  int64  \n",
      " 7   TOT_SALES       264836 non-null  float64\n",
      "dtypes: float64(1), int64(6), object(1)\n",
      "memory usage: 16.2+ MB\n"
     ]
    },
    {
     "data": {
      "text/html": [
       "<div>\n",
       "<style scoped>\n",
       "    .dataframe tbody tr th:only-of-type {\n",
       "        vertical-align: middle;\n",
       "    }\n",
       "\n",
       "    .dataframe tbody tr th {\n",
       "        vertical-align: top;\n",
       "    }\n",
       "\n",
       "    .dataframe thead th {\n",
       "        text-align: right;\n",
       "    }\n",
       "</style>\n",
       "<table border=\"1\" class=\"dataframe\">\n",
       "  <thead>\n",
       "    <tr style=\"text-align: right;\">\n",
       "      <th></th>\n",
       "      <th>DATE</th>\n",
       "      <th>STORE_NBR</th>\n",
       "      <th>LYLTY_CARD_NBR</th>\n",
       "      <th>TXN_ID</th>\n",
       "      <th>PROD_NBR</th>\n",
       "      <th>PROD_NAME</th>\n",
       "      <th>PROD_QTY</th>\n",
       "      <th>TOT_SALES</th>\n",
       "    </tr>\n",
       "  </thead>\n",
       "  <tbody>\n",
       "    <tr>\n",
       "      <th>0</th>\n",
       "      <td>43390</td>\n",
       "      <td>1</td>\n",
       "      <td>1000</td>\n",
       "      <td>1</td>\n",
       "      <td>5</td>\n",
       "      <td>Natural Chip        Compny SeaSalt175g</td>\n",
       "      <td>2</td>\n",
       "      <td>6.0</td>\n",
       "    </tr>\n",
       "    <tr>\n",
       "      <th>1</th>\n",
       "      <td>43599</td>\n",
       "      <td>1</td>\n",
       "      <td>1307</td>\n",
       "      <td>348</td>\n",
       "      <td>66</td>\n",
       "      <td>CCs Nacho Cheese    175g</td>\n",
       "      <td>3</td>\n",
       "      <td>6.3</td>\n",
       "    </tr>\n",
       "    <tr>\n",
       "      <th>2</th>\n",
       "      <td>43605</td>\n",
       "      <td>1</td>\n",
       "      <td>1343</td>\n",
       "      <td>383</td>\n",
       "      <td>61</td>\n",
       "      <td>Smiths Crinkle Cut  Chips Chicken 170g</td>\n",
       "      <td>2</td>\n",
       "      <td>2.9</td>\n",
       "    </tr>\n",
       "    <tr>\n",
       "      <th>3</th>\n",
       "      <td>43329</td>\n",
       "      <td>2</td>\n",
       "      <td>2373</td>\n",
       "      <td>974</td>\n",
       "      <td>69</td>\n",
       "      <td>Smiths Chip Thinly  S/Cream&amp;Onion 175g</td>\n",
       "      <td>5</td>\n",
       "      <td>15.0</td>\n",
       "    </tr>\n",
       "    <tr>\n",
       "      <th>4</th>\n",
       "      <td>43330</td>\n",
       "      <td>2</td>\n",
       "      <td>2426</td>\n",
       "      <td>1038</td>\n",
       "      <td>108</td>\n",
       "      <td>Kettle Tortilla ChpsHny&amp;Jlpno Chili 150g</td>\n",
       "      <td>3</td>\n",
       "      <td>13.8</td>\n",
       "    </tr>\n",
       "  </tbody>\n",
       "</table>\n",
       "</div>"
      ],
      "text/plain": [
       "    DATE  STORE_NBR  LYLTY_CARD_NBR  TXN_ID  PROD_NBR  \\\n",
       "0  43390          1            1000       1         5   \n",
       "1  43599          1            1307     348        66   \n",
       "2  43605          1            1343     383        61   \n",
       "3  43329          2            2373     974        69   \n",
       "4  43330          2            2426    1038       108   \n",
       "\n",
       "                                  PROD_NAME  PROD_QTY  TOT_SALES  \n",
       "0    Natural Chip        Compny SeaSalt175g         2        6.0  \n",
       "1                  CCs Nacho Cheese    175g         3        6.3  \n",
       "2    Smiths Crinkle Cut  Chips Chicken 170g         2        2.9  \n",
       "3    Smiths Chip Thinly  S/Cream&Onion 175g         5       15.0  \n",
       "4  Kettle Tortilla ChpsHny&Jlpno Chili 150g         3       13.8  "
      ]
     },
     "execution_count": 3,
     "metadata": {},
     "output_type": "execute_result"
    }
   ],
   "source": [
    "transaction_data.info()\n",
    "transaction_data.head()\n"
   ]
  },
  {
   "cell_type": "code",
   "execution_count": 4,
   "id": "32c0a000",
   "metadata": {},
   "outputs": [
    {
     "data": {
      "text/html": [
       "<div>\n",
       "<style scoped>\n",
       "    .dataframe tbody tr th:only-of-type {\n",
       "        vertical-align: middle;\n",
       "    }\n",
       "\n",
       "    .dataframe tbody tr th {\n",
       "        vertical-align: top;\n",
       "    }\n",
       "\n",
       "    .dataframe thead th {\n",
       "        text-align: right;\n",
       "    }\n",
       "</style>\n",
       "<table border=\"1\" class=\"dataframe\">\n",
       "  <thead>\n",
       "    <tr style=\"text-align: right;\">\n",
       "      <th></th>\n",
       "      <th>DATE</th>\n",
       "      <th>STORE_NBR</th>\n",
       "      <th>LYLTY_CARD_NBR</th>\n",
       "      <th>TXN_ID</th>\n",
       "      <th>PROD_NBR</th>\n",
       "      <th>PROD_NAME</th>\n",
       "      <th>PROD_QTY</th>\n",
       "      <th>TOT_SALES</th>\n",
       "    </tr>\n",
       "  </thead>\n",
       "  <tbody>\n",
       "    <tr>\n",
       "      <th>count</th>\n",
       "      <td>264836.000000</td>\n",
       "      <td>264836.00000</td>\n",
       "      <td>2.648360e+05</td>\n",
       "      <td>2.648360e+05</td>\n",
       "      <td>264836.000000</td>\n",
       "      <td>264836</td>\n",
       "      <td>264836.000000</td>\n",
       "      <td>264836.000000</td>\n",
       "    </tr>\n",
       "    <tr>\n",
       "      <th>unique</th>\n",
       "      <td>NaN</td>\n",
       "      <td>NaN</td>\n",
       "      <td>NaN</td>\n",
       "      <td>NaN</td>\n",
       "      <td>NaN</td>\n",
       "      <td>114</td>\n",
       "      <td>NaN</td>\n",
       "      <td>NaN</td>\n",
       "    </tr>\n",
       "    <tr>\n",
       "      <th>top</th>\n",
       "      <td>NaN</td>\n",
       "      <td>NaN</td>\n",
       "      <td>NaN</td>\n",
       "      <td>NaN</td>\n",
       "      <td>NaN</td>\n",
       "      <td>Kettle Mozzarella   Basil &amp; Pesto 175g</td>\n",
       "      <td>NaN</td>\n",
       "      <td>NaN</td>\n",
       "    </tr>\n",
       "    <tr>\n",
       "      <th>freq</th>\n",
       "      <td>NaN</td>\n",
       "      <td>NaN</td>\n",
       "      <td>NaN</td>\n",
       "      <td>NaN</td>\n",
       "      <td>NaN</td>\n",
       "      <td>3304</td>\n",
       "      <td>NaN</td>\n",
       "      <td>NaN</td>\n",
       "    </tr>\n",
       "    <tr>\n",
       "      <th>mean</th>\n",
       "      <td>43464.036260</td>\n",
       "      <td>135.08011</td>\n",
       "      <td>1.355495e+05</td>\n",
       "      <td>1.351583e+05</td>\n",
       "      <td>56.583157</td>\n",
       "      <td>NaN</td>\n",
       "      <td>1.907309</td>\n",
       "      <td>7.304200</td>\n",
       "    </tr>\n",
       "    <tr>\n",
       "      <th>std</th>\n",
       "      <td>105.389282</td>\n",
       "      <td>76.78418</td>\n",
       "      <td>8.057998e+04</td>\n",
       "      <td>7.813303e+04</td>\n",
       "      <td>32.826638</td>\n",
       "      <td>NaN</td>\n",
       "      <td>0.643654</td>\n",
       "      <td>3.083226</td>\n",
       "    </tr>\n",
       "    <tr>\n",
       "      <th>min</th>\n",
       "      <td>43282.000000</td>\n",
       "      <td>1.00000</td>\n",
       "      <td>1.000000e+03</td>\n",
       "      <td>1.000000e+00</td>\n",
       "      <td>1.000000</td>\n",
       "      <td>NaN</td>\n",
       "      <td>1.000000</td>\n",
       "      <td>1.500000</td>\n",
       "    </tr>\n",
       "    <tr>\n",
       "      <th>25%</th>\n",
       "      <td>43373.000000</td>\n",
       "      <td>70.00000</td>\n",
       "      <td>7.002100e+04</td>\n",
       "      <td>6.760150e+04</td>\n",
       "      <td>28.000000</td>\n",
       "      <td>NaN</td>\n",
       "      <td>2.000000</td>\n",
       "      <td>5.400000</td>\n",
       "    </tr>\n",
       "    <tr>\n",
       "      <th>50%</th>\n",
       "      <td>43464.000000</td>\n",
       "      <td>130.00000</td>\n",
       "      <td>1.303575e+05</td>\n",
       "      <td>1.351375e+05</td>\n",
       "      <td>56.000000</td>\n",
       "      <td>NaN</td>\n",
       "      <td>2.000000</td>\n",
       "      <td>7.400000</td>\n",
       "    </tr>\n",
       "    <tr>\n",
       "      <th>75%</th>\n",
       "      <td>43555.000000</td>\n",
       "      <td>203.00000</td>\n",
       "      <td>2.030942e+05</td>\n",
       "      <td>2.027012e+05</td>\n",
       "      <td>85.000000</td>\n",
       "      <td>NaN</td>\n",
       "      <td>2.000000</td>\n",
       "      <td>9.200000</td>\n",
       "    </tr>\n",
       "    <tr>\n",
       "      <th>max</th>\n",
       "      <td>43646.000000</td>\n",
       "      <td>272.00000</td>\n",
       "      <td>2.373711e+06</td>\n",
       "      <td>2.415841e+06</td>\n",
       "      <td>114.000000</td>\n",
       "      <td>NaN</td>\n",
       "      <td>200.000000</td>\n",
       "      <td>650.000000</td>\n",
       "    </tr>\n",
       "  </tbody>\n",
       "</table>\n",
       "</div>"
      ],
      "text/plain": [
       "                 DATE     STORE_NBR  LYLTY_CARD_NBR        TXN_ID  \\\n",
       "count   264836.000000  264836.00000    2.648360e+05  2.648360e+05   \n",
       "unique            NaN           NaN             NaN           NaN   \n",
       "top               NaN           NaN             NaN           NaN   \n",
       "freq              NaN           NaN             NaN           NaN   \n",
       "mean     43464.036260     135.08011    1.355495e+05  1.351583e+05   \n",
       "std        105.389282      76.78418    8.057998e+04  7.813303e+04   \n",
       "min      43282.000000       1.00000    1.000000e+03  1.000000e+00   \n",
       "25%      43373.000000      70.00000    7.002100e+04  6.760150e+04   \n",
       "50%      43464.000000     130.00000    1.303575e+05  1.351375e+05   \n",
       "75%      43555.000000     203.00000    2.030942e+05  2.027012e+05   \n",
       "max      43646.000000     272.00000    2.373711e+06  2.415841e+06   \n",
       "\n",
       "             PROD_NBR                               PROD_NAME       PROD_QTY  \\\n",
       "count   264836.000000                                  264836  264836.000000   \n",
       "unique            NaN                                     114            NaN   \n",
       "top               NaN  Kettle Mozzarella   Basil & Pesto 175g            NaN   \n",
       "freq              NaN                                    3304            NaN   \n",
       "mean        56.583157                                     NaN       1.907309   \n",
       "std         32.826638                                     NaN       0.643654   \n",
       "min          1.000000                                     NaN       1.000000   \n",
       "25%         28.000000                                     NaN       2.000000   \n",
       "50%         56.000000                                     NaN       2.000000   \n",
       "75%         85.000000                                     NaN       2.000000   \n",
       "max        114.000000                                     NaN     200.000000   \n",
       "\n",
       "            TOT_SALES  \n",
       "count   264836.000000  \n",
       "unique            NaN  \n",
       "top               NaN  \n",
       "freq              NaN  \n",
       "mean         7.304200  \n",
       "std          3.083226  \n",
       "min          1.500000  \n",
       "25%          5.400000  \n",
       "50%          7.400000  \n",
       "75%          9.200000  \n",
       "max        650.000000  "
      ]
     },
     "execution_count": 4,
     "metadata": {},
     "output_type": "execute_result"
    }
   ],
   "source": [
    "transaction_data.describe(include='all')"
   ]
  },
  {
   "cell_type": "code",
   "execution_count": 5,
   "id": "0f704a71",
   "metadata": {},
   "outputs": [],
   "source": [
    "transaction_data[\"DATE\"] = pd.to_datetime(transaction_data[\"DATE\"], origin=\"1899-12-30\", unit=\"D\")"
   ]
  },
  {
   "cell_type": "code",
   "execution_count": 6,
   "id": "3b4a23a3",
   "metadata": {},
   "outputs": [
    {
     "data": {
      "text/html": [
       "<div>\n",
       "<style scoped>\n",
       "    .dataframe tbody tr th:only-of-type {\n",
       "        vertical-align: middle;\n",
       "    }\n",
       "\n",
       "    .dataframe tbody tr th {\n",
       "        vertical-align: top;\n",
       "    }\n",
       "\n",
       "    .dataframe thead th {\n",
       "        text-align: right;\n",
       "    }\n",
       "</style>\n",
       "<table border=\"1\" class=\"dataframe\">\n",
       "  <thead>\n",
       "    <tr style=\"text-align: right;\">\n",
       "      <th></th>\n",
       "      <th>DATE</th>\n",
       "      <th>STORE_NBR</th>\n",
       "      <th>LYLTY_CARD_NBR</th>\n",
       "      <th>TXN_ID</th>\n",
       "      <th>PROD_NBR</th>\n",
       "      <th>PROD_NAME</th>\n",
       "      <th>PROD_QTY</th>\n",
       "      <th>TOT_SALES</th>\n",
       "    </tr>\n",
       "  </thead>\n",
       "  <tbody>\n",
       "    <tr>\n",
       "      <th>0</th>\n",
       "      <td>2018-10-17</td>\n",
       "      <td>1</td>\n",
       "      <td>1000</td>\n",
       "      <td>1</td>\n",
       "      <td>5</td>\n",
       "      <td>Natural Chip        Compny SeaSalt175g</td>\n",
       "      <td>2</td>\n",
       "      <td>6.0</td>\n",
       "    </tr>\n",
       "    <tr>\n",
       "      <th>1</th>\n",
       "      <td>2019-05-14</td>\n",
       "      <td>1</td>\n",
       "      <td>1307</td>\n",
       "      <td>348</td>\n",
       "      <td>66</td>\n",
       "      <td>CCs Nacho Cheese    175g</td>\n",
       "      <td>3</td>\n",
       "      <td>6.3</td>\n",
       "    </tr>\n",
       "    <tr>\n",
       "      <th>2</th>\n",
       "      <td>2019-05-20</td>\n",
       "      <td>1</td>\n",
       "      <td>1343</td>\n",
       "      <td>383</td>\n",
       "      <td>61</td>\n",
       "      <td>Smiths Crinkle Cut  Chips Chicken 170g</td>\n",
       "      <td>2</td>\n",
       "      <td>2.9</td>\n",
       "    </tr>\n",
       "    <tr>\n",
       "      <th>3</th>\n",
       "      <td>2018-08-17</td>\n",
       "      <td>2</td>\n",
       "      <td>2373</td>\n",
       "      <td>974</td>\n",
       "      <td>69</td>\n",
       "      <td>Smiths Chip Thinly  S/Cream&amp;Onion 175g</td>\n",
       "      <td>5</td>\n",
       "      <td>15.0</td>\n",
       "    </tr>\n",
       "    <tr>\n",
       "      <th>4</th>\n",
       "      <td>2018-08-18</td>\n",
       "      <td>2</td>\n",
       "      <td>2426</td>\n",
       "      <td>1038</td>\n",
       "      <td>108</td>\n",
       "      <td>Kettle Tortilla ChpsHny&amp;Jlpno Chili 150g</td>\n",
       "      <td>3</td>\n",
       "      <td>13.8</td>\n",
       "    </tr>\n",
       "  </tbody>\n",
       "</table>\n",
       "</div>"
      ],
      "text/plain": [
       "        DATE  STORE_NBR  LYLTY_CARD_NBR  TXN_ID  PROD_NBR  \\\n",
       "0 2018-10-17          1            1000       1         5   \n",
       "1 2019-05-14          1            1307     348        66   \n",
       "2 2019-05-20          1            1343     383        61   \n",
       "3 2018-08-17          2            2373     974        69   \n",
       "4 2018-08-18          2            2426    1038       108   \n",
       "\n",
       "                                  PROD_NAME  PROD_QTY  TOT_SALES  \n",
       "0    Natural Chip        Compny SeaSalt175g         2        6.0  \n",
       "1                  CCs Nacho Cheese    175g         3        6.3  \n",
       "2    Smiths Crinkle Cut  Chips Chicken 170g         2        2.9  \n",
       "3    Smiths Chip Thinly  S/Cream&Onion 175g         5       15.0  \n",
       "4  Kettle Tortilla ChpsHny&Jlpno Chili 150g         3       13.8  "
      ]
     },
     "execution_count": 6,
     "metadata": {},
     "output_type": "execute_result"
    }
   ],
   "source": [
    "transaction_data.head()"
   ]
  },
  {
   "cell_type": "code",
   "execution_count": 7,
   "id": "3adeeed4",
   "metadata": {},
   "outputs": [
    {
     "data": {
      "text/plain": [
       "array(['Natural Chip        Compny SeaSalt175g',\n",
       "       'CCs Nacho Cheese    175g',\n",
       "       'Smiths Crinkle Cut  Chips Chicken 170g',\n",
       "       'Smiths Chip Thinly  S/Cream&Onion 175g',\n",
       "       'Kettle Tortilla ChpsHny&Jlpno Chili 150g',\n",
       "       'Old El Paso Salsa   Dip Tomato Mild 300g',\n",
       "       'Smiths Crinkle Chips Salt & Vinegar 330g',\n",
       "       'Grain Waves         Sweet Chilli 210g',\n",
       "       'Doritos Corn Chip Mexican Jalapeno 150g',\n",
       "       'Grain Waves Sour    Cream&Chives 210G',\n",
       "       'Kettle Sensations   Siracha Lime 150g',\n",
       "       'Twisties Cheese     270g', 'WW Crinkle Cut      Chicken 175g',\n",
       "       'Thins Chips Light&  Tangy 175g', 'CCs Original 175g',\n",
       "       'Burger Rings 220g', 'NCC Sour Cream &    Garden Chives 175g',\n",
       "       'Doritos Corn Chip Southern Chicken 150g',\n",
       "       'Cheezels Cheese Box 125g', 'Smiths Crinkle      Original 330g',\n",
       "       'Infzns Crn Crnchers Tangy Gcamole 110g',\n",
       "       'Kettle Sea Salt     And Vinegar 175g',\n",
       "       'Smiths Chip Thinly  Cut Original 175g', 'Kettle Original 175g',\n",
       "       'Red Rock Deli Thai  Chilli&Lime 150g',\n",
       "       'Pringles Sthrn FriedChicken 134g', 'Pringles Sweet&Spcy BBQ 134g',\n",
       "       'Red Rock Deli SR    Salsa & Mzzrlla 150g',\n",
       "       'Thins Chips         Originl saltd 175g',\n",
       "       'Red Rock Deli Sp    Salt & Truffle 150G',\n",
       "       'Smiths Thinly       Swt Chli&S/Cream175G', 'Kettle Chilli 175g',\n",
       "       'Doritos Mexicana    170g',\n",
       "       'Smiths Crinkle Cut  French OnionDip 150g',\n",
       "       'Natural ChipCo      Hony Soy Chckn175g',\n",
       "       'Dorito Corn Chp     Supreme 380g', 'Twisties Chicken270g',\n",
       "       'Smiths Thinly Cut   Roast Chicken 175g',\n",
       "       'Smiths Crinkle Cut  Tomato Salsa 150g',\n",
       "       'Kettle Mozzarella   Basil & Pesto 175g',\n",
       "       'Infuzions Thai SweetChili PotatoMix 110g',\n",
       "       'Kettle Sensations   Camembert & Fig 150g',\n",
       "       'Smith Crinkle Cut   Mac N Cheese 150g',\n",
       "       'Kettle Honey Soy    Chicken 175g',\n",
       "       'Thins Chips Seasonedchicken 175g',\n",
       "       'Smiths Crinkle Cut  Salt & Vinegar 170g',\n",
       "       'Infuzions BBQ Rib   Prawn Crackers 110g',\n",
       "       'GrnWves Plus Btroot & Chilli Jam 180g',\n",
       "       'Tyrrells Crisps     Lightly Salted 165g',\n",
       "       'Kettle Sweet Chilli And Sour Cream 175g',\n",
       "       'Doritos Salsa       Medium 300g', 'Kettle 135g Swt Pot Sea Salt',\n",
       "       'Pringles SourCream  Onion 134g',\n",
       "       'Doritos Corn Chips  Original 170g',\n",
       "       'Twisties Cheese     Burger 250g',\n",
       "       'Old El Paso Salsa   Dip Chnky Tom Ht300g',\n",
       "       'Cobs Popd Swt/Chlli &Sr/Cream Chips 110g',\n",
       "       'Woolworths Mild     Salsa 300g',\n",
       "       'Natural Chip Co     Tmato Hrb&Spce 175g',\n",
       "       'Smiths Crinkle Cut  Chips Original 170g',\n",
       "       'Cobs Popd Sea Salt  Chips 110g',\n",
       "       'Smiths Crinkle Cut  Chips Chs&Onion170g',\n",
       "       'French Fries Potato Chips 175g',\n",
       "       'Old El Paso Salsa   Dip Tomato Med 300g',\n",
       "       'Doritos Corn Chips  Cheese Supreme 170g',\n",
       "       'Pringles Original   Crisps 134g',\n",
       "       'RRD Chilli&         Coconut 150g',\n",
       "       'WW Original Corn    Chips 200g',\n",
       "       'Thins Potato Chips  Hot & Spicy 175g',\n",
       "       'Cobs Popd Sour Crm  &Chives Chips 110g',\n",
       "       'Smiths Crnkle Chip  Orgnl Big Bag 380g',\n",
       "       'Doritos Corn Chips  Nacho Cheese 170g',\n",
       "       'Kettle Sensations   BBQ&Maple 150g',\n",
       "       'WW D/Style Chip     Sea Salt 200g',\n",
       "       'Pringles Chicken    Salt Crips 134g',\n",
       "       'WW Original Stacked Chips 160g',\n",
       "       'Smiths Chip Thinly  CutSalt/Vinegr175g', 'Cheezels Cheese 330g',\n",
       "       'Tostitos Lightly    Salted 175g',\n",
       "       'Thins Chips Salt &  Vinegar 175g',\n",
       "       'Smiths Crinkle Cut  Chips Barbecue 170g', 'Cheetos Puffs 165g',\n",
       "       'RRD Sweet Chilli &  Sour Cream 165g',\n",
       "       'WW Crinkle Cut      Original 175g',\n",
       "       'Tostitos Splash Of  Lime 175g', 'Woolworths Medium   Salsa 300g',\n",
       "       'Kettle Tortilla ChpsBtroot&Ricotta 150g',\n",
       "       'CCs Tasty Cheese    175g', 'Woolworths Cheese   Rings 190g',\n",
       "       'Tostitos Smoked     Chipotle 175g', 'Pringles Barbeque   134g',\n",
       "       'WW Supreme Cheese   Corn Chips 200g',\n",
       "       'Pringles Mystery    Flavour 134g',\n",
       "       'Tyrrells Crisps     Ched & Chives 165g',\n",
       "       'Snbts Whlgrn Crisps Cheddr&Mstrd 90g',\n",
       "       'Cheetos Chs & Bacon Balls 190g', 'Pringles Slt Vingar 134g',\n",
       "       'Infuzions SourCream&Herbs Veg Strws 110g',\n",
       "       'Kettle Tortilla ChpsFeta&Garlic 150g',\n",
       "       'Infuzions Mango     Chutny Papadums 70g',\n",
       "       'RRD Steak &         Chimuchurri 150g',\n",
       "       'RRD Honey Soy       Chicken 165g',\n",
       "       'Sunbites Whlegrn    Crisps Frch/Onin 90g',\n",
       "       'RRD Salt & Vinegar  165g', 'Doritos Cheese      Supreme 330g',\n",
       "       'Smiths Crinkle Cut  Snag&Sauce 150g',\n",
       "       'WW Sour Cream &OnionStacked Chips 160g',\n",
       "       'RRD Lime & Pepper   165g',\n",
       "       'Natural ChipCo Sea  Salt & Vinegr 175g',\n",
       "       'Red Rock Deli Chikn&Garlic Aioli 150g',\n",
       "       'RRD SR Slow Rst     Pork Belly 150g', 'RRD Pc Sea Salt     165g',\n",
       "       'Smith Crinkle Cut   Bolognese 150g', 'Doritos Salsa Mild  300g'],\n",
       "      dtype=object)"
      ]
     },
     "execution_count": 7,
     "metadata": {},
     "output_type": "execute_result"
    }
   ],
   "source": [
    "transaction_data[\"PROD_NAME\"].unique()"
   ]
  },
  {
   "cell_type": "code",
   "execution_count": 8,
   "id": "fe4b1ca7",
   "metadata": {},
   "outputs": [
    {
     "name": "stdout",
     "output_type": "stream",
     "text": [
      "Chips: 74570\n",
      "Not Chips: 190266\n"
     ]
    }
   ],
   "source": [
    "chips_mask = transaction_data[\"PROD_NAME\"].str.contains(\"CHIP\", na=False, case=False)\n",
    "\n",
    "# Count chips vs non-chips\n",
    "print(\"Chips:\", chips_mask.sum())\n",
    "print(\"Not Chips:\", (~chips_mask).sum())"
   ]
  },
  {
   "cell_type": "code",
   "execution_count": 9,
   "id": "578049f7",
   "metadata": {},
   "outputs": [
    {
     "data": {
      "text/plain": [
       "1                    CCs Nacho Cheese    175g\n",
       "4    Kettle Tortilla ChpsHny&Jlpno Chili 150g\n",
       "5    Old El Paso Salsa   Dip Tomato Mild 300g\n",
       "7       Grain Waves         Sweet Chilli 210g\n",
       "9       Grain Waves Sour    Cream&Chives 210G\n",
       "Name: PROD_NAME, dtype: object"
      ]
     },
     "execution_count": 9,
     "metadata": {},
     "output_type": "execute_result"
    }
   ],
   "source": [
    "transaction_data[~chips_mask][\"PROD_NAME\"].head()"
   ]
  },
  {
   "cell_type": "code",
   "execution_count": 10,
   "id": "96617d03",
   "metadata": {},
   "outputs": [
    {
     "name": "stdout",
     "output_type": "stream",
     "text": [
      "         word  count\n",
      "10      chips  49770\n",
      "16     kettle  41288\n",
      "7      smiths  28860\n",
      "28       salt  27976\n",
      "6      cheese  27890\n",
      "66   pringles  25102\n",
      "34    doritos  24962\n",
      "8     crinkle  23960\n",
      "35       corn  22063\n",
      "48   original  21560\n",
      "9         cut  20754\n",
      "1        chip  18645\n",
      "11    chicken  18577\n",
      "24      salsa  18094\n",
      "14      cream  16926\n",
      "33     chilli  15390\n",
      "60        sea  14145\n",
      "45      thins  14075\n",
      "38       sour  13882\n",
      "111    crisps  12607\n"
     ]
    }
   ],
   "source": [
    "# Join all product names into one big string\n",
    "all_text = \" \".join(transaction_data[\"PROD_NAME\"])\n",
    "\n",
    "# Tokenize: split on spaces, remove non-letters, lowercase\n",
    "words = re.findall(r\"[A-Za-z]+\", all_text.lower())\n",
    "\n",
    "# Optional: remove stopwords like \"g\", \"ml\" if you want\n",
    "stopwords = {\"g\", \"ml\"}  # add more if needed\n",
    "words = [w for w in words if w not in stopwords]\n",
    "\n",
    "# Count frequencies\n",
    "word_counts = Counter(words)\n",
    "\n",
    "# Convert to DataFrame for easy viewing\n",
    "word_df = pd.DataFrame(word_counts.items(), columns=[\"word\", \"count\"]).sort_values(by=\"count\", ascending=False)\n",
    "\n",
    "print(word_df.head(20)) "
   ]
  },
  {
   "cell_type": "code",
   "execution_count": 11,
   "id": "451ef081",
   "metadata": {},
   "outputs": [
    {
     "data": {
      "text/plain": [
       "9324"
      ]
     },
     "execution_count": 11,
     "metadata": {},
     "output_type": "execute_result"
    }
   ],
   "source": [
    "salsa_dip_mask = (\n",
    "    transaction_data[\"PROD_NAME\"].str.contains(\"salsa\", case=False, na=False) &\n",
    "    transaction_data[\"PROD_NAME\"].str.contains(\"dip\", case=False, na=False)\n",
    ")\n",
    "len(transaction_data[salsa_dip_mask])"
   ]
  },
  {
   "cell_type": "code",
   "execution_count": 12,
   "id": "55b9ab7f",
   "metadata": {},
   "outputs": [
    {
     "data": {
      "text/html": [
       "<div>\n",
       "<style scoped>\n",
       "    .dataframe tbody tr th:only-of-type {\n",
       "        vertical-align: middle;\n",
       "    }\n",
       "\n",
       "    .dataframe tbody tr th {\n",
       "        vertical-align: top;\n",
       "    }\n",
       "\n",
       "    .dataframe thead th {\n",
       "        text-align: right;\n",
       "    }\n",
       "</style>\n",
       "<table border=\"1\" class=\"dataframe\">\n",
       "  <thead>\n",
       "    <tr style=\"text-align: right;\">\n",
       "      <th></th>\n",
       "      <th>DATE</th>\n",
       "      <th>STORE_NBR</th>\n",
       "      <th>LYLTY_CARD_NBR</th>\n",
       "      <th>TXN_ID</th>\n",
       "      <th>PROD_NBR</th>\n",
       "      <th>PROD_NAME</th>\n",
       "      <th>PROD_QTY</th>\n",
       "      <th>TOT_SALES</th>\n",
       "    </tr>\n",
       "  </thead>\n",
       "  <tbody>\n",
       "    <tr>\n",
       "      <th>0</th>\n",
       "      <td>2018-10-17</td>\n",
       "      <td>1</td>\n",
       "      <td>1000</td>\n",
       "      <td>1</td>\n",
       "      <td>5</td>\n",
       "      <td>Natural Chip        Compny SeaSalt175g</td>\n",
       "      <td>2</td>\n",
       "      <td>6.0</td>\n",
       "    </tr>\n",
       "    <tr>\n",
       "      <th>1</th>\n",
       "      <td>2019-05-14</td>\n",
       "      <td>1</td>\n",
       "      <td>1307</td>\n",
       "      <td>348</td>\n",
       "      <td>66</td>\n",
       "      <td>CCs Nacho Cheese    175g</td>\n",
       "      <td>3</td>\n",
       "      <td>6.3</td>\n",
       "    </tr>\n",
       "    <tr>\n",
       "      <th>2</th>\n",
       "      <td>2019-05-20</td>\n",
       "      <td>1</td>\n",
       "      <td>1343</td>\n",
       "      <td>383</td>\n",
       "      <td>61</td>\n",
       "      <td>Smiths Crinkle Cut  Chips Chicken 170g</td>\n",
       "      <td>2</td>\n",
       "      <td>2.9</td>\n",
       "    </tr>\n",
       "    <tr>\n",
       "      <th>3</th>\n",
       "      <td>2018-08-17</td>\n",
       "      <td>2</td>\n",
       "      <td>2373</td>\n",
       "      <td>974</td>\n",
       "      <td>69</td>\n",
       "      <td>Smiths Chip Thinly  S/Cream&amp;Onion 175g</td>\n",
       "      <td>5</td>\n",
       "      <td>15.0</td>\n",
       "    </tr>\n",
       "    <tr>\n",
       "      <th>4</th>\n",
       "      <td>2018-08-18</td>\n",
       "      <td>2</td>\n",
       "      <td>2426</td>\n",
       "      <td>1038</td>\n",
       "      <td>108</td>\n",
       "      <td>Kettle Tortilla ChpsHny&amp;Jlpno Chili 150g</td>\n",
       "      <td>3</td>\n",
       "      <td>13.8</td>\n",
       "    </tr>\n",
       "  </tbody>\n",
       "</table>\n",
       "</div>"
      ],
      "text/plain": [
       "        DATE  STORE_NBR  LYLTY_CARD_NBR  TXN_ID  PROD_NBR  \\\n",
       "0 2018-10-17          1            1000       1         5   \n",
       "1 2019-05-14          1            1307     348        66   \n",
       "2 2019-05-20          1            1343     383        61   \n",
       "3 2018-08-17          2            2373     974        69   \n",
       "4 2018-08-18          2            2426    1038       108   \n",
       "\n",
       "                                  PROD_NAME  PROD_QTY  TOT_SALES  \n",
       "0    Natural Chip        Compny SeaSalt175g         2        6.0  \n",
       "1                  CCs Nacho Cheese    175g         3        6.3  \n",
       "2    Smiths Crinkle Cut  Chips Chicken 170g         2        2.9  \n",
       "3    Smiths Chip Thinly  S/Cream&Onion 175g         5       15.0  \n",
       "4  Kettle Tortilla ChpsHny&Jlpno Chili 150g         3       13.8  "
      ]
     },
     "execution_count": 12,
     "metadata": {},
     "output_type": "execute_result"
    }
   ],
   "source": [
    "chip_transaction = transaction_data[~salsa_dip_mask]\n",
    "chip_transaction.head()"
   ]
  },
  {
   "cell_type": "code",
   "execution_count": 13,
   "id": "dcfee77b",
   "metadata": {},
   "outputs": [
    {
     "name": "stdout",
     "output_type": "stream",
     "text": [
      "<class 'pandas.core.frame.DataFrame'>\n",
      "Index: 255512 entries, 0 to 264835\n",
      "Data columns (total 8 columns):\n",
      " #   Column          Non-Null Count   Dtype         \n",
      "---  ------          --------------   -----         \n",
      " 0   DATE            255512 non-null  datetime64[ns]\n",
      " 1   STORE_NBR       255512 non-null  int64         \n",
      " 2   LYLTY_CARD_NBR  255512 non-null  int64         \n",
      " 3   TXN_ID          255512 non-null  int64         \n",
      " 4   PROD_NBR        255512 non-null  int64         \n",
      " 5   PROD_NAME       255512 non-null  object        \n",
      " 6   PROD_QTY        255512 non-null  int64         \n",
      " 7   TOT_SALES       255512 non-null  float64       \n",
      "dtypes: datetime64[ns](1), float64(1), int64(5), object(1)\n",
      "memory usage: 17.5+ MB\n"
     ]
    }
   ],
   "source": [
    "chip_transaction.info()"
   ]
  },
  {
   "cell_type": "code",
   "execution_count": 14,
   "id": "58257c9d",
   "metadata": {},
   "outputs": [
    {
     "data": {
      "text/html": [
       "<div>\n",
       "<style scoped>\n",
       "    .dataframe tbody tr th:only-of-type {\n",
       "        vertical-align: middle;\n",
       "    }\n",
       "\n",
       "    .dataframe tbody tr th {\n",
       "        vertical-align: top;\n",
       "    }\n",
       "\n",
       "    .dataframe thead th {\n",
       "        text-align: right;\n",
       "    }\n",
       "</style>\n",
       "<table border=\"1\" class=\"dataframe\">\n",
       "  <thead>\n",
       "    <tr style=\"text-align: right;\">\n",
       "      <th></th>\n",
       "      <th>DATE</th>\n",
       "      <th>STORE_NBR</th>\n",
       "      <th>LYLTY_CARD_NBR</th>\n",
       "      <th>TXN_ID</th>\n",
       "      <th>PROD_NBR</th>\n",
       "      <th>PROD_QTY</th>\n",
       "      <th>TOT_SALES</th>\n",
       "    </tr>\n",
       "  </thead>\n",
       "  <tbody>\n",
       "    <tr>\n",
       "      <th>count</th>\n",
       "      <td>255512</td>\n",
       "      <td>255512.000000</td>\n",
       "      <td>2.555120e+05</td>\n",
       "      <td>2.555120e+05</td>\n",
       "      <td>255512.000000</td>\n",
       "      <td>255512.000000</td>\n",
       "      <td>255512.000000</td>\n",
       "    </tr>\n",
       "    <tr>\n",
       "      <th>mean</th>\n",
       "      <td>2018-12-30 02:05:04.442844160</td>\n",
       "      <td>135.069715</td>\n",
       "      <td>1.355385e+05</td>\n",
       "      <td>1.351492e+05</td>\n",
       "      <td>56.445729</td>\n",
       "      <td>1.907225</td>\n",
       "      <td>7.215434</td>\n",
       "    </tr>\n",
       "    <tr>\n",
       "      <th>min</th>\n",
       "      <td>2018-07-01 00:00:00</td>\n",
       "      <td>1.000000</td>\n",
       "      <td>1.000000e+03</td>\n",
       "      <td>1.000000e+00</td>\n",
       "      <td>1.000000</td>\n",
       "      <td>1.000000</td>\n",
       "      <td>1.500000</td>\n",
       "    </tr>\n",
       "    <tr>\n",
       "      <th>25%</th>\n",
       "      <td>2018-09-30 00:00:00</td>\n",
       "      <td>70.000000</td>\n",
       "      <td>7.003075e+04</td>\n",
       "      <td>6.766875e+04</td>\n",
       "      <td>28.000000</td>\n",
       "      <td>2.000000</td>\n",
       "      <td>5.400000</td>\n",
       "    </tr>\n",
       "    <tr>\n",
       "      <th>50%</th>\n",
       "      <td>2018-12-30 00:00:00</td>\n",
       "      <td>130.000000</td>\n",
       "      <td>1.303540e+05</td>\n",
       "      <td>1.351235e+05</td>\n",
       "      <td>53.000000</td>\n",
       "      <td>2.000000</td>\n",
       "      <td>7.400000</td>\n",
       "    </tr>\n",
       "    <tr>\n",
       "      <th>75%</th>\n",
       "      <td>2019-03-31 00:00:00</td>\n",
       "      <td>203.000000</td>\n",
       "      <td>2.030782e+05</td>\n",
       "      <td>2.026292e+05</td>\n",
       "      <td>86.000000</td>\n",
       "      <td>2.000000</td>\n",
       "      <td>8.800000</td>\n",
       "    </tr>\n",
       "    <tr>\n",
       "      <th>max</th>\n",
       "      <td>2019-06-30 00:00:00</td>\n",
       "      <td>272.000000</td>\n",
       "      <td>2.373711e+06</td>\n",
       "      <td>2.415841e+06</td>\n",
       "      <td>114.000000</td>\n",
       "      <td>200.000000</td>\n",
       "      <td>650.000000</td>\n",
       "    </tr>\n",
       "    <tr>\n",
       "      <th>std</th>\n",
       "      <td>NaN</td>\n",
       "      <td>76.751389</td>\n",
       "      <td>8.054947e+04</td>\n",
       "      <td>7.810313e+04</td>\n",
       "      <td>33.405874</td>\n",
       "      <td>0.652135</td>\n",
       "      <td>3.085918</td>\n",
       "    </tr>\n",
       "  </tbody>\n",
       "</table>\n",
       "</div>"
      ],
      "text/plain": [
       "                                DATE      STORE_NBR  LYLTY_CARD_NBR  \\\n",
       "count                         255512  255512.000000    2.555120e+05   \n",
       "mean   2018-12-30 02:05:04.442844160     135.069715    1.355385e+05   \n",
       "min              2018-07-01 00:00:00       1.000000    1.000000e+03   \n",
       "25%              2018-09-30 00:00:00      70.000000    7.003075e+04   \n",
       "50%              2018-12-30 00:00:00     130.000000    1.303540e+05   \n",
       "75%              2019-03-31 00:00:00     203.000000    2.030782e+05   \n",
       "max              2019-06-30 00:00:00     272.000000    2.373711e+06   \n",
       "std                              NaN      76.751389    8.054947e+04   \n",
       "\n",
       "             TXN_ID       PROD_NBR       PROD_QTY      TOT_SALES  \n",
       "count  2.555120e+05  255512.000000  255512.000000  255512.000000  \n",
       "mean   1.351492e+05      56.445729       1.907225       7.215434  \n",
       "min    1.000000e+00       1.000000       1.000000       1.500000  \n",
       "25%    6.766875e+04      28.000000       2.000000       5.400000  \n",
       "50%    1.351235e+05      53.000000       2.000000       7.400000  \n",
       "75%    2.026292e+05      86.000000       2.000000       8.800000  \n",
       "max    2.415841e+06     114.000000     200.000000     650.000000  \n",
       "std    7.810313e+04      33.405874       0.652135       3.085918  "
      ]
     },
     "execution_count": 14,
     "metadata": {},
     "output_type": "execute_result"
    }
   ],
   "source": [
    "chip_transaction.describe()"
   ]
  },
  {
   "cell_type": "markdown",
   "id": "6f039b94",
   "metadata": {},
   "source": [
    "There is one outlier in \"PROD_QTY\". Did the customer buy 200 packs of chips in one go or is this any sort of typo?"
   ]
  },
  {
   "cell_type": "code",
   "execution_count": 15,
   "id": "794c2dd2",
   "metadata": {},
   "outputs": [
    {
     "data": {
      "text/plain": [
       "PROD_QTY\n",
       "2      227684\n",
       "1       26590\n",
       "5         435\n",
       "3         418\n",
       "4         383\n",
       "200         2\n",
       "Name: count, dtype: int64"
      ]
     },
     "execution_count": 15,
     "metadata": {},
     "output_type": "execute_result"
    }
   ],
   "source": [
    "chip_transaction[\"PROD_QTY\"].value_counts()"
   ]
  },
  {
   "cell_type": "code",
   "execution_count": 16,
   "id": "2ffce1d7",
   "metadata": {},
   "outputs": [
    {
     "data": {
      "text/html": [
       "<div>\n",
       "<style scoped>\n",
       "    .dataframe tbody tr th:only-of-type {\n",
       "        vertical-align: middle;\n",
       "    }\n",
       "\n",
       "    .dataframe tbody tr th {\n",
       "        vertical-align: top;\n",
       "    }\n",
       "\n",
       "    .dataframe thead th {\n",
       "        text-align: right;\n",
       "    }\n",
       "</style>\n",
       "<table border=\"1\" class=\"dataframe\">\n",
       "  <thead>\n",
       "    <tr style=\"text-align: right;\">\n",
       "      <th></th>\n",
       "      <th>DATE</th>\n",
       "      <th>STORE_NBR</th>\n",
       "      <th>LYLTY_CARD_NBR</th>\n",
       "      <th>TXN_ID</th>\n",
       "      <th>PROD_NBR</th>\n",
       "      <th>PROD_NAME</th>\n",
       "      <th>PROD_QTY</th>\n",
       "      <th>TOT_SALES</th>\n",
       "    </tr>\n",
       "  </thead>\n",
       "  <tbody>\n",
       "    <tr>\n",
       "      <th>69762</th>\n",
       "      <td>2018-08-19</td>\n",
       "      <td>226</td>\n",
       "      <td>226000</td>\n",
       "      <td>226201</td>\n",
       "      <td>4</td>\n",
       "      <td>Dorito Corn Chp     Supreme 380g</td>\n",
       "      <td>200</td>\n",
       "      <td>650.0</td>\n",
       "    </tr>\n",
       "    <tr>\n",
       "      <th>69763</th>\n",
       "      <td>2019-05-20</td>\n",
       "      <td>226</td>\n",
       "      <td>226000</td>\n",
       "      <td>226210</td>\n",
       "      <td>4</td>\n",
       "      <td>Dorito Corn Chp     Supreme 380g</td>\n",
       "      <td>200</td>\n",
       "      <td>650.0</td>\n",
       "    </tr>\n",
       "  </tbody>\n",
       "</table>\n",
       "</div>"
      ],
      "text/plain": [
       "            DATE  STORE_NBR  LYLTY_CARD_NBR  TXN_ID  PROD_NBR  \\\n",
       "69762 2018-08-19        226          226000  226201         4   \n",
       "69763 2019-05-20        226          226000  226210         4   \n",
       "\n",
       "                              PROD_NAME  PROD_QTY  TOT_SALES  \n",
       "69762  Dorito Corn Chp     Supreme 380g       200      650.0  \n",
       "69763  Dorito Corn Chp     Supreme 380g       200      650.0  "
      ]
     },
     "execution_count": 16,
     "metadata": {},
     "output_type": "execute_result"
    }
   ],
   "source": [
    "chip_transaction[chip_transaction[\"PROD_QTY\"] == 200]"
   ]
  },
  {
   "cell_type": "markdown",
   "id": "f23d5cf7",
   "metadata": {},
   "source": [
    "These 2 transactions are the only outliers in PROD_NAME and this also explains the outliers in TOT_SALES as well.\n",
    "These 2 transactions look like legit transactions and they are both made by the same customers. "
   ]
  },
  {
   "cell_type": "code",
   "execution_count": 17,
   "id": "dffdcf80",
   "metadata": {},
   "outputs": [
    {
     "data": {
      "text/html": [
       "<div>\n",
       "<style scoped>\n",
       "    .dataframe tbody tr th:only-of-type {\n",
       "        vertical-align: middle;\n",
       "    }\n",
       "\n",
       "    .dataframe tbody tr th {\n",
       "        vertical-align: top;\n",
       "    }\n",
       "\n",
       "    .dataframe thead th {\n",
       "        text-align: right;\n",
       "    }\n",
       "</style>\n",
       "<table border=\"1\" class=\"dataframe\">\n",
       "  <thead>\n",
       "    <tr style=\"text-align: right;\">\n",
       "      <th></th>\n",
       "      <th>DATE</th>\n",
       "      <th>STORE_NBR</th>\n",
       "      <th>LYLTY_CARD_NBR</th>\n",
       "      <th>TXN_ID</th>\n",
       "      <th>PROD_NBR</th>\n",
       "      <th>PROD_NAME</th>\n",
       "      <th>PROD_QTY</th>\n",
       "      <th>TOT_SALES</th>\n",
       "    </tr>\n",
       "  </thead>\n",
       "  <tbody>\n",
       "    <tr>\n",
       "      <th>69762</th>\n",
       "      <td>2018-08-19</td>\n",
       "      <td>226</td>\n",
       "      <td>226000</td>\n",
       "      <td>226201</td>\n",
       "      <td>4</td>\n",
       "      <td>Dorito Corn Chp     Supreme 380g</td>\n",
       "      <td>200</td>\n",
       "      <td>650.0</td>\n",
       "    </tr>\n",
       "    <tr>\n",
       "      <th>69763</th>\n",
       "      <td>2019-05-20</td>\n",
       "      <td>226</td>\n",
       "      <td>226000</td>\n",
       "      <td>226210</td>\n",
       "      <td>4</td>\n",
       "      <td>Dorito Corn Chp     Supreme 380g</td>\n",
       "      <td>200</td>\n",
       "      <td>650.0</td>\n",
       "    </tr>\n",
       "  </tbody>\n",
       "</table>\n",
       "</div>"
      ],
      "text/plain": [
       "            DATE  STORE_NBR  LYLTY_CARD_NBR  TXN_ID  PROD_NBR  \\\n",
       "69762 2018-08-19        226          226000  226201         4   \n",
       "69763 2019-05-20        226          226000  226210         4   \n",
       "\n",
       "                              PROD_NAME  PROD_QTY  TOT_SALES  \n",
       "69762  Dorito Corn Chp     Supreme 380g       200      650.0  \n",
       "69763  Dorito Corn Chp     Supreme 380g       200      650.0  "
      ]
     },
     "execution_count": 17,
     "metadata": {},
     "output_type": "execute_result"
    }
   ],
   "source": [
    "chip_transaction[chip_transaction[\"LYLTY_CARD_NBR\"] == 226000]"
   ]
  },
  {
   "cell_type": "markdown",
   "id": "04d5380d",
   "metadata": {},
   "source": [
    "The customer only made these 2 transactions, maybe for some sort of commercial purposes and not a frequent customers -> remove this Loyalty Card Number out of the data."
   ]
  },
  {
   "cell_type": "code",
   "execution_count": 18,
   "id": "5fb8728c",
   "metadata": {},
   "outputs": [
    {
     "data": {
      "text/html": [
       "<div>\n",
       "<style scoped>\n",
       "    .dataframe tbody tr th:only-of-type {\n",
       "        vertical-align: middle;\n",
       "    }\n",
       "\n",
       "    .dataframe tbody tr th {\n",
       "        vertical-align: top;\n",
       "    }\n",
       "\n",
       "    .dataframe thead th {\n",
       "        text-align: right;\n",
       "    }\n",
       "</style>\n",
       "<table border=\"1\" class=\"dataframe\">\n",
       "  <thead>\n",
       "    <tr style=\"text-align: right;\">\n",
       "      <th></th>\n",
       "      <th>DATE</th>\n",
       "      <th>STORE_NBR</th>\n",
       "      <th>LYLTY_CARD_NBR</th>\n",
       "      <th>TXN_ID</th>\n",
       "      <th>PROD_NBR</th>\n",
       "      <th>PROD_QTY</th>\n",
       "      <th>TOT_SALES</th>\n",
       "    </tr>\n",
       "  </thead>\n",
       "  <tbody>\n",
       "    <tr>\n",
       "      <th>count</th>\n",
       "      <td>255510</td>\n",
       "      <td>255510.000000</td>\n",
       "      <td>2.555100e+05</td>\n",
       "      <td>2.555100e+05</td>\n",
       "      <td>255510.000000</td>\n",
       "      <td>255510.000000</td>\n",
       "      <td>255510.000000</td>\n",
       "    </tr>\n",
       "    <tr>\n",
       "      <th>mean</th>\n",
       "      <td>2018-12-30 02:05:01.796407040</td>\n",
       "      <td>135.069003</td>\n",
       "      <td>1.355378e+05</td>\n",
       "      <td>1.351484e+05</td>\n",
       "      <td>56.446139</td>\n",
       "      <td>1.905675</td>\n",
       "      <td>7.210402</td>\n",
       "    </tr>\n",
       "    <tr>\n",
       "      <th>min</th>\n",
       "      <td>2018-07-01 00:00:00</td>\n",
       "      <td>1.000000</td>\n",
       "      <td>1.000000e+03</td>\n",
       "      <td>1.000000e+00</td>\n",
       "      <td>1.000000</td>\n",
       "      <td>1.000000</td>\n",
       "      <td>1.500000</td>\n",
       "    </tr>\n",
       "    <tr>\n",
       "      <th>25%</th>\n",
       "      <td>2018-09-30 00:00:00</td>\n",
       "      <td>70.000000</td>\n",
       "      <td>7.003025e+04</td>\n",
       "      <td>6.766825e+04</td>\n",
       "      <td>28.000000</td>\n",
       "      <td>2.000000</td>\n",
       "      <td>5.400000</td>\n",
       "    </tr>\n",
       "    <tr>\n",
       "      <th>50%</th>\n",
       "      <td>2018-12-30 00:00:00</td>\n",
       "      <td>130.000000</td>\n",
       "      <td>1.303540e+05</td>\n",
       "      <td>1.351225e+05</td>\n",
       "      <td>53.000000</td>\n",
       "      <td>2.000000</td>\n",
       "      <td>7.400000</td>\n",
       "    </tr>\n",
       "    <tr>\n",
       "      <th>75%</th>\n",
       "      <td>2019-03-31 00:00:00</td>\n",
       "      <td>203.000000</td>\n",
       "      <td>2.030778e+05</td>\n",
       "      <td>2.026278e+05</td>\n",
       "      <td>86.000000</td>\n",
       "      <td>2.000000</td>\n",
       "      <td>8.800000</td>\n",
       "    </tr>\n",
       "    <tr>\n",
       "      <th>max</th>\n",
       "      <td>2019-06-30 00:00:00</td>\n",
       "      <td>272.000000</td>\n",
       "      <td>2.373711e+06</td>\n",
       "      <td>2.415841e+06</td>\n",
       "      <td>114.000000</td>\n",
       "      <td>5.000000</td>\n",
       "      <td>29.500000</td>\n",
       "    </tr>\n",
       "    <tr>\n",
       "      <th>std</th>\n",
       "      <td>NaN</td>\n",
       "      <td>76.751267</td>\n",
       "      <td>8.054938e+04</td>\n",
       "      <td>7.810302e+04</td>\n",
       "      <td>33.405683</td>\n",
       "      <td>0.343691</td>\n",
       "      <td>2.507754</td>\n",
       "    </tr>\n",
       "  </tbody>\n",
       "</table>\n",
       "</div>"
      ],
      "text/plain": [
       "                                DATE      STORE_NBR  LYLTY_CARD_NBR  \\\n",
       "count                         255510  255510.000000    2.555100e+05   \n",
       "mean   2018-12-30 02:05:01.796407040     135.069003    1.355378e+05   \n",
       "min              2018-07-01 00:00:00       1.000000    1.000000e+03   \n",
       "25%              2018-09-30 00:00:00      70.000000    7.003025e+04   \n",
       "50%              2018-12-30 00:00:00     130.000000    1.303540e+05   \n",
       "75%              2019-03-31 00:00:00     203.000000    2.030778e+05   \n",
       "max              2019-06-30 00:00:00     272.000000    2.373711e+06   \n",
       "std                              NaN      76.751267    8.054938e+04   \n",
       "\n",
       "             TXN_ID       PROD_NBR       PROD_QTY      TOT_SALES  \n",
       "count  2.555100e+05  255510.000000  255510.000000  255510.000000  \n",
       "mean   1.351484e+05      56.446139       1.905675       7.210402  \n",
       "min    1.000000e+00       1.000000       1.000000       1.500000  \n",
       "25%    6.766825e+04      28.000000       2.000000       5.400000  \n",
       "50%    1.351225e+05      53.000000       2.000000       7.400000  \n",
       "75%    2.026278e+05      86.000000       2.000000       8.800000  \n",
       "max    2.415841e+06     114.000000       5.000000      29.500000  \n",
       "std    7.810302e+04      33.405683       0.343691       2.507754  "
      ]
     },
     "execution_count": 18,
     "metadata": {},
     "output_type": "execute_result"
    }
   ],
   "source": [
    "chip_transaction = chip_transaction[chip_transaction[\"LYLTY_CARD_NBR\"] != 226000]\n",
    "chip_transaction.describe()"
   ]
  },
  {
   "cell_type": "code",
   "execution_count": 19,
   "id": "749dc466",
   "metadata": {},
   "outputs": [
    {
     "data": {
      "text/plain": [
       "DATE                 364\n",
       "STORE_NBR            272\n",
       "LYLTY_CARD_NBR     71944\n",
       "TXN_ID            253911\n",
       "PROD_NBR             111\n",
       "PROD_NAME            111\n",
       "PROD_QTY               5\n",
       "TOT_SALES            107\n",
       "dtype: int64"
      ]
     },
     "execution_count": 19,
     "metadata": {},
     "output_type": "execute_result"
    }
   ],
   "source": [
    "chip_transaction.nunique()"
   ]
  },
  {
   "cell_type": "code",
   "execution_count": 20,
   "id": "729d7bd3",
   "metadata": {},
   "outputs": [
    {
     "name": "stdout",
     "output_type": "stream",
     "text": [
      "Number of missing dates: 1\n",
      "Example missing dates: DatetimeIndex(['2018-12-25'], dtype='datetime64[ns]', freq='D')\n"
     ]
    }
   ],
   "source": [
    "full_range = pd.date_range(\n",
    "    start=chip_transaction[\"DATE\"].min(),\n",
    "    end=chip_transaction[\"DATE\"].max(),\n",
    "    freq=\"D\"\n",
    ")\n",
    "\n",
    "# Get unique transaction dates\n",
    "existing_dates = chip_transaction[\"DATE\"].dt.normalize().unique()\n",
    "\n",
    "# Find missing dates\n",
    "missing_dates = full_range.difference(existing_dates)\n",
    "\n",
    "print(\"Number of missing dates:\", len(missing_dates))\n",
    "print(\"Example missing dates:\", missing_dates[:10])"
   ]
  },
  {
   "cell_type": "markdown",
   "id": "f55b6008",
   "metadata": {},
   "source": [
    "This seems like all stores closed on Christmas 2018. "
   ]
  },
  {
   "cell_type": "code",
   "execution_count": 21,
   "id": "a6ad6dcf",
   "metadata": {},
   "outputs": [
    {
     "data": {
      "text/plain": [
       "<Axes: xlabel='DATE'>"
      ]
     },
     "execution_count": 21,
     "metadata": {},
     "output_type": "execute_result"
    },
    {
     "data": {
      "image/png": "[encoded data removed]",
      "text/plain": [
       "<Figure size 1500x500 with 1 Axes>"
      ]
     },
     "metadata": {},
     "output_type": "display_data"
    }
   ],
   "source": [
    "chip_transaction[\"DATE\"].value_counts().sort_index().plot(kind=\"line\", figsize=(15,5))"
   ]
  },
  {
   "cell_type": "markdown",
   "id": "d273e219",
   "metadata": {},
   "source": [
    "Purchasing frequencies shot up as it approached Christmas and then went down to normal levels after the whole holiday was over."
   ]
  },
  {
   "cell_type": "code",
   "execution_count": 22,
   "id": "a8acda38",
   "metadata": {},
   "outputs": [],
   "source": [
    "chip_transaction[\"PROD_SIZE\"] = chip_transaction[\"PROD_NAME\"].str.extract(r\"(\\d+)\\s*g\", flags=re.IGNORECASE).astype(int)"
   ]
  },
  {
   "cell_type": "code",
   "execution_count": 23,
   "id": "58d45054",
   "metadata": {},
   "outputs": [
    {
     "data": {
      "text/html": [
       "<div>\n",
       "<style scoped>\n",
       "    .dataframe tbody tr th:only-of-type {\n",
       "        vertical-align: middle;\n",
       "    }\n",
       "\n",
       "    .dataframe tbody tr th {\n",
       "        vertical-align: top;\n",
       "    }\n",
       "\n",
       "    .dataframe thead th {\n",
       "        text-align: right;\n",
       "    }\n",
       "</style>\n",
       "<table border=\"1\" class=\"dataframe\">\n",
       "  <thead>\n",
       "    <tr style=\"text-align: right;\">\n",
       "      <th></th>\n",
       "      <th>DATE</th>\n",
       "      <th>STORE_NBR</th>\n",
       "      <th>LYLTY_CARD_NBR</th>\n",
       "      <th>TXN_ID</th>\n",
       "      <th>PROD_NBR</th>\n",
       "      <th>PROD_NAME</th>\n",
       "      <th>PROD_QTY</th>\n",
       "      <th>TOT_SALES</th>\n",
       "      <th>PROD_SIZE</th>\n",
       "    </tr>\n",
       "  </thead>\n",
       "  <tbody>\n",
       "    <tr>\n",
       "      <th>0</th>\n",
       "      <td>2018-10-17</td>\n",
       "      <td>1</td>\n",
       "      <td>1000</td>\n",
       "      <td>1</td>\n",
       "      <td>5</td>\n",
       "      <td>Natural Chip        Compny SeaSalt175g</td>\n",
       "      <td>2</td>\n",
       "      <td>6.0</td>\n",
       "      <td>175</td>\n",
       "    </tr>\n",
       "    <tr>\n",
       "      <th>1</th>\n",
       "      <td>2019-05-14</td>\n",
       "      <td>1</td>\n",
       "      <td>1307</td>\n",
       "      <td>348</td>\n",
       "      <td>66</td>\n",
       "      <td>CCs Nacho Cheese    175g</td>\n",
       "      <td>3</td>\n",
       "      <td>6.3</td>\n",
       "      <td>175</td>\n",
       "    </tr>\n",
       "    <tr>\n",
       "      <th>2</th>\n",
       "      <td>2019-05-20</td>\n",
       "      <td>1</td>\n",
       "      <td>1343</td>\n",
       "      <td>383</td>\n",
       "      <td>61</td>\n",
       "      <td>Smiths Crinkle Cut  Chips Chicken 170g</td>\n",
       "      <td>2</td>\n",
       "      <td>2.9</td>\n",
       "      <td>170</td>\n",
       "    </tr>\n",
       "    <tr>\n",
       "      <th>3</th>\n",
       "      <td>2018-08-17</td>\n",
       "      <td>2</td>\n",
       "      <td>2373</td>\n",
       "      <td>974</td>\n",
       "      <td>69</td>\n",
       "      <td>Smiths Chip Thinly  S/Cream&amp;Onion 175g</td>\n",
       "      <td>5</td>\n",
       "      <td>15.0</td>\n",
       "      <td>175</td>\n",
       "    </tr>\n",
       "    <tr>\n",
       "      <th>4</th>\n",
       "      <td>2018-08-18</td>\n",
       "      <td>2</td>\n",
       "      <td>2426</td>\n",
       "      <td>1038</td>\n",
       "      <td>108</td>\n",
       "      <td>Kettle Tortilla ChpsHny&amp;Jlpno Chili 150g</td>\n",
       "      <td>3</td>\n",
       "      <td>13.8</td>\n",
       "      <td>150</td>\n",
       "    </tr>\n",
       "  </tbody>\n",
       "</table>\n",
       "</div>"
      ],
      "text/plain": [
       "        DATE  STORE_NBR  LYLTY_CARD_NBR  TXN_ID  PROD_NBR  \\\n",
       "0 2018-10-17          1            1000       1         5   \n",
       "1 2019-05-14          1            1307     348        66   \n",
       "2 2019-05-20          1            1343     383        61   \n",
       "3 2018-08-17          2            2373     974        69   \n",
       "4 2018-08-18          2            2426    1038       108   \n",
       "\n",
       "                                  PROD_NAME  PROD_QTY  TOT_SALES  PROD_SIZE  \n",
       "0    Natural Chip        Compny SeaSalt175g         2        6.0        175  \n",
       "1                  CCs Nacho Cheese    175g         3        6.3        175  \n",
       "2    Smiths Crinkle Cut  Chips Chicken 170g         2        2.9        170  \n",
       "3    Smiths Chip Thinly  S/Cream&Onion 175g         5       15.0        175  \n",
       "4  Kettle Tortilla ChpsHny&Jlpno Chili 150g         3       13.8        150  "
      ]
     },
     "execution_count": 23,
     "metadata": {},
     "output_type": "execute_result"
    }
   ],
   "source": [
    "chip_transaction.head()"
   ]
  },
  {
   "cell_type": "code",
   "execution_count": 24,
   "id": "06ebab10",
   "metadata": {},
   "outputs": [
    {
     "data": {
      "image/png": "[encoded data removed]",
      "text/plain": [
       "<Figure size 1000x500 with 1 Axes>"
      ]
     },
     "metadata": {},
     "output_type": "display_data"
    }
   ],
   "source": [
    "chip_transaction[\"PROD_SIZE\"].value_counts().plot(kind=\"bar\", figsize=(10,5))\n",
    "plt.xlabel(\"Product Size (g)\")\n",
    "plt.ylabel(\"Count\")\n",
    "plt.title(\"Distribution of Product Sizes\");"
   ]
  },
  {
   "cell_type": "code",
   "execution_count": 25,
   "id": "b834fd8b",
   "metadata": {},
   "outputs": [
    {
     "data": {
      "text/plain": [
       "np.int64(0)"
      ]
     },
     "execution_count": 25,
     "metadata": {},
     "output_type": "execute_result"
    }
   ],
   "source": [
    "chip_transaction[\"PROD_SIZE\"].isnull().sum()"
   ]
  },
  {
   "cell_type": "code",
   "execution_count": 26,
   "id": "300ace8b",
   "metadata": {},
   "outputs": [
    {
     "data": {
      "text/plain": [
       "[('Kettle', 41288),\n",
       " ('Smiths', 28860),\n",
       " ('Pringles', 25102),\n",
       " ('Doritos', 24962),\n",
       " ('Thins', 14075),\n",
       " ('RRD', 11894),\n",
       " ('Infuzions', 11057),\n",
       " ('WW', 10320),\n",
       " ('Cobs', 9693),\n",
       " ('Tostitos', 9471),\n",
       " ('Twisties', 9454),\n",
       " ('Tyrrells', 6442),\n",
       " ('Grain', 6272),\n",
       " ('Natural', 6050),\n",
       " ('Red', 5885),\n",
       " ('Cheezels', 4603),\n",
       " ('CCs', 4551),\n",
       " ('Woolworths', 4437),\n",
       " ('Dorito', 3183),\n",
       " ('Infzns', 3144),\n",
       " ('Smith', 2963),\n",
       " ('Cheetos', 2927),\n",
       " ('Snbts', 1576),\n",
       " ('Burger', 1564),\n",
       " ('GrnWves', 1468),\n",
       " ('Sunbites', 1432),\n",
       " ('NCC', 1419),\n",
       " ('French', 1418)]"
      ]
     },
     "execution_count": 26,
     "metadata": {},
     "output_type": "execute_result"
    }
   ],
   "source": [
    "words = []\n",
    "for name in chip_transaction[\"PROD_NAME\"]:\n",
    "    tokens = re.findall(r\"[A-Za-z]+\", name)\n",
    "    words.append(tokens[0])  # first word as candidate brand\n",
    "\n",
    "Counter(words).most_common(30)"
   ]
  },
  {
   "cell_type": "code",
   "execution_count": 27,
   "id": "fdcf4b28",
   "metadata": {},
   "outputs": [
    {
     "data": {
      "text/html": [
       "<div>\n",
       "<style scoped>\n",
       "    .dataframe tbody tr th:only-of-type {\n",
       "        vertical-align: middle;\n",
       "    }\n",
       "\n",
       "    .dataframe tbody tr th {\n",
       "        vertical-align: top;\n",
       "    }\n",
       "\n",
       "    .dataframe thead th {\n",
       "        text-align: right;\n",
       "    }\n",
       "</style>\n",
       "<table border=\"1\" class=\"dataframe\">\n",
       "  <thead>\n",
       "    <tr style=\"text-align: right;\">\n",
       "      <th></th>\n",
       "      <th>DATE</th>\n",
       "      <th>STORE_NBR</th>\n",
       "      <th>LYLTY_CARD_NBR</th>\n",
       "      <th>TXN_ID</th>\n",
       "      <th>PROD_NBR</th>\n",
       "      <th>PROD_NAME</th>\n",
       "      <th>PROD_QTY</th>\n",
       "      <th>TOT_SALES</th>\n",
       "      <th>PROD_SIZE</th>\n",
       "      <th>BRAND_RAW</th>\n",
       "      <th>BRAND</th>\n",
       "    </tr>\n",
       "  </thead>\n",
       "  <tbody>\n",
       "    <tr>\n",
       "      <th>0</th>\n",
       "      <td>2018-10-17</td>\n",
       "      <td>1</td>\n",
       "      <td>1000</td>\n",
       "      <td>1</td>\n",
       "      <td>5</td>\n",
       "      <td>Natural Chip        Compny SeaSalt175g</td>\n",
       "      <td>2</td>\n",
       "      <td>6.0</td>\n",
       "      <td>175</td>\n",
       "      <td>Natural</td>\n",
       "      <td>Natural ChipCo</td>\n",
       "    </tr>\n",
       "    <tr>\n",
       "      <th>1</th>\n",
       "      <td>2019-05-14</td>\n",
       "      <td>1</td>\n",
       "      <td>1307</td>\n",
       "      <td>348</td>\n",
       "      <td>66</td>\n",
       "      <td>CCs Nacho Cheese    175g</td>\n",
       "      <td>3</td>\n",
       "      <td>6.3</td>\n",
       "      <td>175</td>\n",
       "      <td>CCs</td>\n",
       "      <td>CCs</td>\n",
       "    </tr>\n",
       "    <tr>\n",
       "      <th>2</th>\n",
       "      <td>2019-05-20</td>\n",
       "      <td>1</td>\n",
       "      <td>1343</td>\n",
       "      <td>383</td>\n",
       "      <td>61</td>\n",
       "      <td>Smiths Crinkle Cut  Chips Chicken 170g</td>\n",
       "      <td>2</td>\n",
       "      <td>2.9</td>\n",
       "      <td>170</td>\n",
       "      <td>Smiths</td>\n",
       "      <td>Smiths</td>\n",
       "    </tr>\n",
       "    <tr>\n",
       "      <th>3</th>\n",
       "      <td>2018-08-17</td>\n",
       "      <td>2</td>\n",
       "      <td>2373</td>\n",
       "      <td>974</td>\n",
       "      <td>69</td>\n",
       "      <td>Smiths Chip Thinly  S/Cream&amp;Onion 175g</td>\n",
       "      <td>5</td>\n",
       "      <td>15.0</td>\n",
       "      <td>175</td>\n",
       "      <td>Smiths</td>\n",
       "      <td>Smiths</td>\n",
       "    </tr>\n",
       "    <tr>\n",
       "      <th>4</th>\n",
       "      <td>2018-08-18</td>\n",
       "      <td>2</td>\n",
       "      <td>2426</td>\n",
       "      <td>1038</td>\n",
       "      <td>108</td>\n",
       "      <td>Kettle Tortilla ChpsHny&amp;Jlpno Chili 150g</td>\n",
       "      <td>3</td>\n",
       "      <td>13.8</td>\n",
       "      <td>150</td>\n",
       "      <td>Kettle</td>\n",
       "      <td>Kettle</td>\n",
       "    </tr>\n",
       "  </tbody>\n",
       "</table>\n",
       "</div>"
      ],
      "text/plain": [
       "        DATE  STORE_NBR  LYLTY_CARD_NBR  TXN_ID  PROD_NBR  \\\n",
       "0 2018-10-17          1            1000       1         5   \n",
       "1 2019-05-14          1            1307     348        66   \n",
       "2 2019-05-20          1            1343     383        61   \n",
       "3 2018-08-17          2            2373     974        69   \n",
       "4 2018-08-18          2            2426    1038       108   \n",
       "\n",
       "                                  PROD_NAME  PROD_QTY  TOT_SALES  PROD_SIZE  \\\n",
       "0    Natural Chip        Compny SeaSalt175g         2        6.0        175   \n",
       "1                  CCs Nacho Cheese    175g         3        6.3        175   \n",
       "2    Smiths Crinkle Cut  Chips Chicken 170g         2        2.9        170   \n",
       "3    Smiths Chip Thinly  S/Cream&Onion 175g         5       15.0        175   \n",
       "4  Kettle Tortilla ChpsHny&Jlpno Chili 150g         3       13.8        150   \n",
       "\n",
       "  BRAND_RAW           BRAND  \n",
       "0   Natural  Natural ChipCo  \n",
       "1       CCs             CCs  \n",
       "2    Smiths          Smiths  \n",
       "3    Smiths          Smiths  \n",
       "4    Kettle          Kettle  "
      ]
     },
     "execution_count": 27,
     "metadata": {},
     "output_type": "execute_result"
    }
   ],
   "source": [
    "chip_transaction[\"BRAND_RAW\"] = chip_transaction[\"PROD_NAME\"].str.split().str[0].str.strip()\n",
    "\n",
    "# Map common variants to standard brand names\n",
    "brand_map = {\n",
    "    \"Red\": \"Red Rock Deli\",\n",
    "    \"RRD\": \"Red Rock Deli\",\n",
    "    \"Grain\": \"Grain Waves\",\n",
    "    \"GrnWves\": \"Grain Waves\",\n",
    "    \"Smiths\": \"Smiths\",\n",
    "    \"Smith\": \"Smiths\",   # sometimes misspelled\n",
    "    \"Doritos\": \"Doritos\",\n",
    "    \"CCs\": \"CCs\",\n",
    "    \"Kettle\": \"Kettle\",\n",
    "    \"Thins\": \"Thins\",\n",
    "    \"Pringles\": \"Pringles\",\n",
    "    \"Twisties\": \"Twisties\",\n",
    "    \"Cheezels\": \"Cheezels\",\n",
    "    \"Burger\": \"Burger Rings\",\n",
    "    \"Natural\": \"Natural ChipCo\",\n",
    "    \"Infzns\": \"Infuzions\",\n",
    "    \"NCC\": \"NCC\",\n",
    "    \"WW\": \"Woolworths\"}\n",
    "\n",
    "chip_transaction[\"BRAND\"] = chip_transaction[\"BRAND_RAW\"].map(brand_map).fillna(chip_transaction[\"BRAND_RAW\"])\n",
    "\n",
    "chip_transaction.head()"
   ]
  },
  {
   "cell_type": "code",
   "execution_count": 28,
   "id": "4bba7c42",
   "metadata": {},
   "outputs": [
    {
     "data": {
      "text/html": [
       "<div>\n",
       "<style scoped>\n",
       "    .dataframe tbody tr th:only-of-type {\n",
       "        vertical-align: middle;\n",
       "    }\n",
       "\n",
       "    .dataframe tbody tr th {\n",
       "        vertical-align: top;\n",
       "    }\n",
       "\n",
       "    .dataframe thead th {\n",
       "        text-align: right;\n",
       "    }\n",
       "</style>\n",
       "<table border=\"1\" class=\"dataframe\">\n",
       "  <thead>\n",
       "    <tr style=\"text-align: right;\">\n",
       "      <th></th>\n",
       "      <th>DATE</th>\n",
       "      <th>STORE_NBR</th>\n",
       "      <th>LYLTY_CARD_NBR</th>\n",
       "      <th>TXN_ID</th>\n",
       "      <th>PROD_NBR</th>\n",
       "      <th>PROD_NAME</th>\n",
       "      <th>PROD_QTY</th>\n",
       "      <th>TOT_SALES</th>\n",
       "      <th>PROD_SIZE</th>\n",
       "      <th>BRAND</th>\n",
       "    </tr>\n",
       "  </thead>\n",
       "  <tbody>\n",
       "    <tr>\n",
       "      <th>0</th>\n",
       "      <td>2018-10-17</td>\n",
       "      <td>1</td>\n",
       "      <td>1000</td>\n",
       "      <td>1</td>\n",
       "      <td>5</td>\n",
       "      <td>Natural Chip        Compny SeaSalt175g</td>\n",
       "      <td>2</td>\n",
       "      <td>6.0</td>\n",
       "      <td>175</td>\n",
       "      <td>Natural ChipCo</td>\n",
       "    </tr>\n",
       "    <tr>\n",
       "      <th>1</th>\n",
       "      <td>2019-05-14</td>\n",
       "      <td>1</td>\n",
       "      <td>1307</td>\n",
       "      <td>348</td>\n",
       "      <td>66</td>\n",
       "      <td>CCs Nacho Cheese    175g</td>\n",
       "      <td>3</td>\n",
       "      <td>6.3</td>\n",
       "      <td>175</td>\n",
       "      <td>CCs</td>\n",
       "    </tr>\n",
       "    <tr>\n",
       "      <th>2</th>\n",
       "      <td>2019-05-20</td>\n",
       "      <td>1</td>\n",
       "      <td>1343</td>\n",
       "      <td>383</td>\n",
       "      <td>61</td>\n",
       "      <td>Smiths Crinkle Cut  Chips Chicken 170g</td>\n",
       "      <td>2</td>\n",
       "      <td>2.9</td>\n",
       "      <td>170</td>\n",
       "      <td>Smiths</td>\n",
       "    </tr>\n",
       "    <tr>\n",
       "      <th>3</th>\n",
       "      <td>2018-08-17</td>\n",
       "      <td>2</td>\n",
       "      <td>2373</td>\n",
       "      <td>974</td>\n",
       "      <td>69</td>\n",
       "      <td>Smiths Chip Thinly  S/Cream&amp;Onion 175g</td>\n",
       "      <td>5</td>\n",
       "      <td>15.0</td>\n",
       "      <td>175</td>\n",
       "      <td>Smiths</td>\n",
       "    </tr>\n",
       "    <tr>\n",
       "      <th>4</th>\n",
       "      <td>2018-08-18</td>\n",
       "      <td>2</td>\n",
       "      <td>2426</td>\n",
       "      <td>1038</td>\n",
       "      <td>108</td>\n",
       "      <td>Kettle Tortilla ChpsHny&amp;Jlpno Chili 150g</td>\n",
       "      <td>3</td>\n",
       "      <td>13.8</td>\n",
       "      <td>150</td>\n",
       "      <td>Kettle</td>\n",
       "    </tr>\n",
       "  </tbody>\n",
       "</table>\n",
       "</div>"
      ],
      "text/plain": [
       "        DATE  STORE_NBR  LYLTY_CARD_NBR  TXN_ID  PROD_NBR  \\\n",
       "0 2018-10-17          1            1000       1         5   \n",
       "1 2019-05-14          1            1307     348        66   \n",
       "2 2019-05-20          1            1343     383        61   \n",
       "3 2018-08-17          2            2373     974        69   \n",
       "4 2018-08-18          2            2426    1038       108   \n",
       "\n",
       "                                  PROD_NAME  PROD_QTY  TOT_SALES  PROD_SIZE  \\\n",
       "0    Natural Chip        Compny SeaSalt175g         2        6.0        175   \n",
       "1                  CCs Nacho Cheese    175g         3        6.3        175   \n",
       "2    Smiths Crinkle Cut  Chips Chicken 170g         2        2.9        170   \n",
       "3    Smiths Chip Thinly  S/Cream&Onion 175g         5       15.0        175   \n",
       "4  Kettle Tortilla ChpsHny&Jlpno Chili 150g         3       13.8        150   \n",
       "\n",
       "            BRAND  \n",
       "0  Natural ChipCo  \n",
       "1             CCs  \n",
       "2          Smiths  \n",
       "3          Smiths  \n",
       "4          Kettle  "
      ]
     },
     "execution_count": 28,
     "metadata": {},
     "output_type": "execute_result"
    }
   ],
   "source": [
    "chip_transaction.drop(columns=[\"BRAND_RAW\"], inplace=True)\n",
    "chip_transaction.head()"
   ]
  },
  {
   "cell_type": "code",
   "execution_count": 29,
   "id": "939e34ca",
   "metadata": {},
   "outputs": [
    {
     "data": {
      "image/png": "[encoded data removed]",
      "text/plain": [
       "<Figure size 1200x600 with 1 Axes>"
      ]
     },
     "metadata": {},
     "output_type": "display_data"
    }
   ],
   "source": [
    "chip_transaction[\"BRAND\"].value_counts().plot(kind=\"bar\", figsize=(12,6))\n",
    "plt.xlabel(\"Brand\")\n",
    "plt.ylabel(\"Frequency [Count]\")\n",
    "plt.title(\"Brand Popularity in terms of Purchase Frequency\");"
   ]
  },
  {
   "cell_type": "code",
   "execution_count": 30,
   "id": "528d1315",
   "metadata": {},
   "outputs": [
    {
     "data": {
      "text/html": [
       "<div>\n",
       "<style scoped>\n",
       "    .dataframe tbody tr th:only-of-type {\n",
       "        vertical-align: middle;\n",
       "    }\n",
       "\n",
       "    .dataframe tbody tr th {\n",
       "        vertical-align: top;\n",
       "    }\n",
       "\n",
       "    .dataframe thead th {\n",
       "        text-align: right;\n",
       "    }\n",
       "</style>\n",
       "<table border=\"1\" class=\"dataframe\">\n",
       "  <thead>\n",
       "    <tr style=\"text-align: right;\">\n",
       "      <th></th>\n",
       "      <th>LYLTY_CARD_NBR</th>\n",
       "      <th>LIFESTAGE</th>\n",
       "      <th>PREMIUM_CUSTOMER</th>\n",
       "    </tr>\n",
       "  </thead>\n",
       "  <tbody>\n",
       "    <tr>\n",
       "      <th>0</th>\n",
       "      <td>1000</td>\n",
       "      <td>YOUNG SINGLES/COUPLES</td>\n",
       "      <td>Premium</td>\n",
       "    </tr>\n",
       "    <tr>\n",
       "      <th>1</th>\n",
       "      <td>1002</td>\n",
       "      <td>YOUNG SINGLES/COUPLES</td>\n",
       "      <td>Mainstream</td>\n",
       "    </tr>\n",
       "    <tr>\n",
       "      <th>2</th>\n",
       "      <td>1003</td>\n",
       "      <td>YOUNG FAMILIES</td>\n",
       "      <td>Budget</td>\n",
       "    </tr>\n",
       "    <tr>\n",
       "      <th>3</th>\n",
       "      <td>1004</td>\n",
       "      <td>OLDER SINGLES/COUPLES</td>\n",
       "      <td>Mainstream</td>\n",
       "    </tr>\n",
       "    <tr>\n",
       "      <th>4</th>\n",
       "      <td>1005</td>\n",
       "      <td>MIDAGE SINGLES/COUPLES</td>\n",
       "      <td>Mainstream</td>\n",
       "    </tr>\n",
       "  </tbody>\n",
       "</table>\n",
       "</div>"
      ],
      "text/plain": [
       "   LYLTY_CARD_NBR               LIFESTAGE PREMIUM_CUSTOMER\n",
       "0            1000   YOUNG SINGLES/COUPLES          Premium\n",
       "1            1002   YOUNG SINGLES/COUPLES       Mainstream\n",
       "2            1003          YOUNG FAMILIES           Budget\n",
       "3            1004   OLDER SINGLES/COUPLES       Mainstream\n",
       "4            1005  MIDAGE SINGLES/COUPLES       Mainstream"
      ]
     },
     "execution_count": 30,
     "metadata": {},
     "output_type": "execute_result"
    }
   ],
   "source": [
    "behavior_data = pd.read_csv('QVI_purchase_behaviour.csv')\n",
    "behavior_data.head()"
   ]
  },
  {
   "cell_type": "code",
   "execution_count": 31,
   "id": "d63cb91c",
   "metadata": {},
   "outputs": [
    {
     "name": "stdout",
     "output_type": "stream",
     "text": [
      "<class 'pandas.core.frame.DataFrame'>\n",
      "RangeIndex: 72637 entries, 0 to 72636\n",
      "Data columns (total 3 columns):\n",
      " #   Column            Non-Null Count  Dtype \n",
      "---  ------            --------------  ----- \n",
      " 0   LYLTY_CARD_NBR    72637 non-null  int64 \n",
      " 1   LIFESTAGE         72637 non-null  object\n",
      " 2   PREMIUM_CUSTOMER  72637 non-null  object\n",
      "dtypes: int64(1), object(2)\n",
      "memory usage: 1.7+ MB\n"
     ]
    }
   ],
   "source": [
    "behavior_data.info()"
   ]
  },
  {
   "cell_type": "code",
   "execution_count": 32,
   "id": "efe485c3",
   "metadata": {},
   "outputs": [
    {
     "data": {
      "text/plain": [
       "LYLTY_CARD_NBR      72637\n",
       "LIFESTAGE               7\n",
       "PREMIUM_CUSTOMER        3\n",
       "dtype: int64"
      ]
     },
     "execution_count": 32,
     "metadata": {},
     "output_type": "execute_result"
    }
   ],
   "source": [
    "behavior_data.nunique()"
   ]
  },
  {
   "cell_type": "code",
   "execution_count": 33,
   "id": "b1475c09",
   "metadata": {},
   "outputs": [
    {
     "data": {
      "text/plain": [
       "LIFESTAGE\n",
       "RETIREES                  14805\n",
       "OLDER SINGLES/COUPLES     14609\n",
       "YOUNG SINGLES/COUPLES     14441\n",
       "OLDER FAMILIES             9780\n",
       "YOUNG FAMILIES             9178\n",
       "MIDAGE SINGLES/COUPLES     7275\n",
       "NEW FAMILIES               2549\n",
       "Name: count, dtype: int64"
      ]
     },
     "execution_count": 33,
     "metadata": {},
     "output_type": "execute_result"
    }
   ],
   "source": [
    "behavior_data[\"LIFESTAGE\"].value_counts()"
   ]
  },
  {
   "cell_type": "code",
   "execution_count": 34,
   "id": "9a20d45b",
   "metadata": {},
   "outputs": [
    {
     "data": {
      "image/png": "[encoded data removed]",
      "text/plain": [
       "<Figure size 800x500 with 1 Axes>"
      ]
     },
     "metadata": {},
     "output_type": "display_data"
    }
   ],
   "source": [
    "behavior_data[\"LIFESTAGE\"].value_counts().plot(kind=\"bar\", figsize=(8,5))\n",
    "plt.xlabel(\"Lifestage\")\n",
    "plt.ylabel(\"Count\")\n",
    "plt.title(\"Distribution of Customers by Lifestage\");"
   ]
  },
  {
   "cell_type": "code",
   "execution_count": 35,
   "id": "2f2bb78e",
   "metadata": {},
   "outputs": [
    {
     "data": {
      "text/plain": [
       "PREMIUM_CUSTOMER\n",
       "Mainstream    40.261850\n",
       "Budget        33.688065\n",
       "Premium       26.050085\n",
       "Name: proportion, dtype: float64"
      ]
     },
     "execution_count": 35,
     "metadata": {},
     "output_type": "execute_result"
    }
   ],
   "source": [
    "behavior_data[\"PREMIUM_CUSTOMER\"].value_counts(normalize=True)*100"
   ]
  },
  {
   "cell_type": "code",
   "execution_count": 36,
   "id": "4126f626",
   "metadata": {},
   "outputs": [
    {
     "name": "stdout",
     "output_type": "stream",
     "text": [
      "<class 'pandas.core.frame.DataFrame'>\n",
      "RangeIndex: 255510 entries, 0 to 255509\n",
      "Data columns (total 12 columns):\n",
      " #   Column            Non-Null Count   Dtype         \n",
      "---  ------            --------------   -----         \n",
      " 0   DATE              255510 non-null  datetime64[ns]\n",
      " 1   STORE_NBR         255510 non-null  int64         \n",
      " 2   LYLTY_CARD_NBR    255510 non-null  int64         \n",
      " 3   TXN_ID            255510 non-null  int64         \n",
      " 4   PROD_NBR          255510 non-null  int64         \n",
      " 5   PROD_NAME         255510 non-null  object        \n",
      " 6   PROD_QTY          255510 non-null  int64         \n",
      " 7   TOT_SALES         255510 non-null  float64       \n",
      " 8   PROD_SIZE         255510 non-null  int64         \n",
      " 9   BRAND             255510 non-null  object        \n",
      " 10  LIFESTAGE         255510 non-null  object        \n",
      " 11  PREMIUM_CUSTOMER  255510 non-null  object        \n",
      "dtypes: datetime64[ns](1), float64(1), int64(6), object(4)\n",
      "memory usage: 23.4+ MB\n"
     ]
    },
    {
     "data": {
      "text/html": [
       "<div>\n",
       "<style scoped>\n",
       "    .dataframe tbody tr th:only-of-type {\n",
       "        vertical-align: middle;\n",
       "    }\n",
       "\n",
       "    .dataframe tbody tr th {\n",
       "        vertical-align: top;\n",
       "    }\n",
       "\n",
       "    .dataframe thead th {\n",
       "        text-align: right;\n",
       "    }\n",
       "</style>\n",
       "<table border=\"1\" class=\"dataframe\">\n",
       "  <thead>\n",
       "    <tr style=\"text-align: right;\">\n",
       "      <th></th>\n",
       "      <th>DATE</th>\n",
       "      <th>STORE_NBR</th>\n",
       "      <th>LYLTY_CARD_NBR</th>\n",
       "      <th>TXN_ID</th>\n",
       "      <th>PROD_NBR</th>\n",
       "      <th>PROD_NAME</th>\n",
       "      <th>PROD_QTY</th>\n",
       "      <th>TOT_SALES</th>\n",
       "      <th>PROD_SIZE</th>\n",
       "      <th>BRAND</th>\n",
       "      <th>LIFESTAGE</th>\n",
       "      <th>PREMIUM_CUSTOMER</th>\n",
       "    </tr>\n",
       "  </thead>\n",
       "  <tbody>\n",
       "    <tr>\n",
       "      <th>0</th>\n",
       "      <td>2018-10-17</td>\n",
       "      <td>1</td>\n",
       "      <td>1000</td>\n",
       "      <td>1</td>\n",
       "      <td>5</td>\n",
       "      <td>Natural Chip        Compny SeaSalt175g</td>\n",
       "      <td>2</td>\n",
       "      <td>6.0</td>\n",
       "      <td>175</td>\n",
       "      <td>Natural ChipCo</td>\n",
       "      <td>YOUNG SINGLES/COUPLES</td>\n",
       "      <td>Premium</td>\n",
       "    </tr>\n",
       "    <tr>\n",
       "      <th>1</th>\n",
       "      <td>2019-05-14</td>\n",
       "      <td>1</td>\n",
       "      <td>1307</td>\n",
       "      <td>348</td>\n",
       "      <td>66</td>\n",
       "      <td>CCs Nacho Cheese    175g</td>\n",
       "      <td>3</td>\n",
       "      <td>6.3</td>\n",
       "      <td>175</td>\n",
       "      <td>CCs</td>\n",
       "      <td>MIDAGE SINGLES/COUPLES</td>\n",
       "      <td>Budget</td>\n",
       "    </tr>\n",
       "    <tr>\n",
       "      <th>2</th>\n",
       "      <td>2019-05-20</td>\n",
       "      <td>1</td>\n",
       "      <td>1343</td>\n",
       "      <td>383</td>\n",
       "      <td>61</td>\n",
       "      <td>Smiths Crinkle Cut  Chips Chicken 170g</td>\n",
       "      <td>2</td>\n",
       "      <td>2.9</td>\n",
       "      <td>170</td>\n",
       "      <td>Smiths</td>\n",
       "      <td>MIDAGE SINGLES/COUPLES</td>\n",
       "      <td>Budget</td>\n",
       "    </tr>\n",
       "    <tr>\n",
       "      <th>3</th>\n",
       "      <td>2018-08-17</td>\n",
       "      <td>2</td>\n",
       "      <td>2373</td>\n",
       "      <td>974</td>\n",
       "      <td>69</td>\n",
       "      <td>Smiths Chip Thinly  S/Cream&amp;Onion 175g</td>\n",
       "      <td>5</td>\n",
       "      <td>15.0</td>\n",
       "      <td>175</td>\n",
       "      <td>Smiths</td>\n",
       "      <td>MIDAGE SINGLES/COUPLES</td>\n",
       "      <td>Budget</td>\n",
       "    </tr>\n",
       "    <tr>\n",
       "      <th>4</th>\n",
       "      <td>2018-08-18</td>\n",
       "      <td>2</td>\n",
       "      <td>2426</td>\n",
       "      <td>1038</td>\n",
       "      <td>108</td>\n",
       "      <td>Kettle Tortilla ChpsHny&amp;Jlpno Chili 150g</td>\n",
       "      <td>3</td>\n",
       "      <td>13.8</td>\n",
       "      <td>150</td>\n",
       "      <td>Kettle</td>\n",
       "      <td>MIDAGE SINGLES/COUPLES</td>\n",
       "      <td>Budget</td>\n",
       "    </tr>\n",
       "  </tbody>\n",
       "</table>\n",
       "</div>"
      ],
      "text/plain": [
       "        DATE  STORE_NBR  LYLTY_CARD_NBR  TXN_ID  PROD_NBR  \\\n",
       "0 2018-10-17          1            1000       1         5   \n",
       "1 2019-05-14          1            1307     348        66   \n",
       "2 2019-05-20          1            1343     383        61   \n",
       "3 2018-08-17          2            2373     974        69   \n",
       "4 2018-08-18          2            2426    1038       108   \n",
       "\n",
       "                                  PROD_NAME  PROD_QTY  TOT_SALES  PROD_SIZE  \\\n",
       "0    Natural Chip        Compny SeaSalt175g         2        6.0        175   \n",
       "1                  CCs Nacho Cheese    175g         3        6.3        175   \n",
       "2    Smiths Crinkle Cut  Chips Chicken 170g         2        2.9        170   \n",
       "3    Smiths Chip Thinly  S/Cream&Onion 175g         5       15.0        175   \n",
       "4  Kettle Tortilla ChpsHny&Jlpno Chili 150g         3       13.8        150   \n",
       "\n",
       "            BRAND               LIFESTAGE PREMIUM_CUSTOMER  \n",
       "0  Natural ChipCo   YOUNG SINGLES/COUPLES          Premium  \n",
       "1             CCs  MIDAGE SINGLES/COUPLES           Budget  \n",
       "2          Smiths  MIDAGE SINGLES/COUPLES           Budget  \n",
       "3          Smiths  MIDAGE SINGLES/COUPLES           Budget  \n",
       "4          Kettle  MIDAGE SINGLES/COUPLES           Budget  "
      ]
     },
     "execution_count": 36,
     "metadata": {},
     "output_type": "execute_result"
    }
   ],
   "source": [
    "df = pd.merge(chip_transaction, behavior_data, on=\"LYLTY_CARD_NBR\", how=\"inner\")\n",
    "df.info()\n",
    "df.head()"
   ]
  },
  {
   "cell_type": "code",
   "execution_count": 37,
   "id": "eddbc820",
   "metadata": {},
   "outputs": [
    {
     "name": "stdout",
     "output_type": "stream",
     "text": [
      "Drop 9326 observations during cleaning, corresponding to 3.52% of the original data.\n"
     ]
    }
   ],
   "source": [
    "print(f\"Drop {len(transaction_data) - len(df)} observations during cleaning, corresponding to {((len(transaction_data) - len(df)) / len(transaction_data)) * 100:.2f}% of the original data.\")"
   ]
  },
  {
   "cell_type": "code",
   "execution_count": 38,
   "id": "edc72274",
   "metadata": {},
   "outputs": [],
   "source": [
    "df.to_csv('chip_behavior_data.csv', index=False)"
   ]
  },
  {
   "cell_type": "markdown",
   "id": "e3a2d3c2",
   "metadata": {},
   "source": [
    "# **EXPLORATORY DATA ANALYSIS**"
   ]
  },
  {
   "cell_type": "markdown",
   "id": "c7906605",
   "metadata": {},
   "source": [
    "Questions to ask:\n",
    "- Who spends the most on chips (total sales), describing customers by lifestage and how premium their general purchasing behaviour is?\n",
    "- How many customers are in each segment?\n",
    "- How many chips are bought per customer by segment?\n",
    "- What's the average chip price by customer segment?"
   ]
  },
  {
   "cell_type": "markdown",
   "id": "80f87975",
   "metadata": {},
   "source": [
    "### **TOTAL SALES**"
   ]
  },
  {
   "cell_type": "code",
   "execution_count": 39,
   "id": "63e12839",
   "metadata": {},
   "outputs": [
    {
     "data": {
      "image/png": "[encoded data removed]",
      "text/plain": [
       "<Figure size 1000x600 with 1 Axes>"
      ]
     },
     "metadata": {},
     "output_type": "display_data"
    }
   ],
   "source": [
    "df.groupby(by=[\"LIFESTAGE\", \"PREMIUM_CUSTOMER\"])[\"TOT_SALES\"].sum().sort_values(ascending=False).head(10).plot(kind=\"barh\", figsize=(10,6))\n",
    "plt.xlabel(\"Total Sales\")\n",
    "plt.title(\"Top 10 Lifestage and Premium Customer Segments by Total Chip Sales\")\n",
    "plt.show()"
   ]
  },
  {
   "cell_type": "markdown",
   "id": "21460c10",
   "metadata": {},
   "source": [
    "Most of the top consumers of chips (by total sales) are the budget and mainstream customers, with Budget - older families being the the group with the highest consumption of chips, followed by Mainstream - Young Singles/Couples and Retirees. "
   ]
  },
  {
   "cell_type": "code",
   "execution_count": 40,
   "id": "9a390c2e",
   "metadata": {},
   "outputs": [
    {
     "data": {
      "text/plain": [
       "LIFESTAGE\n",
       "OLDER SINGLES/COUPLES     20.560448\n",
       "RETIREES                  18.756213\n",
       "OLDER FAMILIES            18.396540\n",
       "YOUNG FAMILIES            16.486635\n",
       "YOUNG SINGLES/COUPLES     13.718837\n",
       "MIDAGE SINGLES/COUPLES     9.469297\n",
       "NEW FAMILIES               2.612031\n",
       "Name: proportion, dtype: float64"
      ]
     },
     "execution_count": 40,
     "metadata": {},
     "output_type": "execute_result"
    }
   ],
   "source": [
    "df[\"LIFESTAGE\"].value_counts(normalize=True)*100"
   ]
  },
  {
   "cell_type": "code",
   "execution_count": 41,
   "id": "52c924ea",
   "metadata": {},
   "outputs": [
    {
     "data": {
      "text/plain": [
       "PREMIUM_CUSTOMER\n",
       "Mainstream    38.457595\n",
       "Budget        35.205667\n",
       "Premium       26.336738\n",
       "Name: proportion, dtype: float64"
      ]
     },
     "execution_count": 41,
     "metadata": {},
     "output_type": "execute_result"
    }
   ],
   "source": [
    "df[\"PREMIUM_CUSTOMER\"].value_counts(normalize=True)*100"
   ]
  },
  {
   "cell_type": "code",
   "execution_count": 42,
   "id": "a0b25293",
   "metadata": {},
   "outputs": [
    {
     "data": {
      "text/plain": [
       "PREMIUM_CUSTOMER  LIFESTAGE             \n",
       "Budget            OLDER FAMILIES            22402\n",
       "Mainstream        RETIREES                  20702\n",
       "                  YOUNG SINGLES/COUPLES     19987\n",
       "Budget            YOUNG FAMILIES            18450\n",
       "                  OLDER SINGLES/COUPLES     17733\n",
       "Mainstream        OLDER SINGLES/COUPLES     17700\n",
       "Premium           OLDER SINGLES/COUPLES     17101\n",
       "Budget            RETIREES                  14632\n",
       "Mainstream        OLDER FAMILIES            13770\n",
       "Premium           RETIREES                  12590\n",
       "Mainstream        YOUNG FAMILIES            12488\n",
       "                  MIDAGE SINGLES/COUPLES    11373\n",
       "Premium           YOUNG FAMILIES            11187\n",
       "                  OLDER FAMILIES            10833\n",
       "Budget            YOUNG SINGLES/COUPLES      8963\n",
       "Premium           MIDAGE SINGLES/COUPLES     7946\n",
       "                  YOUNG SINGLES/COUPLES      6103\n",
       "Budget            MIDAGE SINGLES/COUPLES     4876\n",
       "                  NEW FAMILIES               2898\n",
       "Mainstream        NEW FAMILIES               2243\n",
       "Premium           NEW FAMILIES               1533\n",
       "Name: TOT_SALES, dtype: int64"
      ]
     },
     "execution_count": 42,
     "metadata": {},
     "output_type": "execute_result"
    }
   ],
   "source": [
    "df.groupby(by=[\"PREMIUM_CUSTOMER\", \"LIFESTAGE\"])[\"TOT_SALES\"].count().sort_values(ascending=False)"
   ]
  },
  {
   "cell_type": "markdown",
   "id": "b47a0fbe",
   "metadata": {},
   "source": [
    "It can be seen that higher total sales are driven by higher number of people in that group."
   ]
  },
  {
   "cell_type": "markdown",
   "id": "b6d3a9c2",
   "metadata": {},
   "source": [
    "### **AVERAGE SPENDING**"
   ]
  },
  {
   "cell_type": "code",
   "execution_count": 43,
   "id": "22dbbe74",
   "metadata": {},
   "outputs": [
    {
     "data": {
      "text/plain": [
       "PREMIUM_CUSTOMER\n",
       "Mainstream    7.272276\n",
       "Premium       7.174912\n",
       "Budget        7.169363\n",
       "Name: TOT_SALES, dtype: float64"
      ]
     },
     "execution_count": 43,
     "metadata": {},
     "output_type": "execute_result"
    }
   ],
   "source": [
    "df.groupby(by=[\"PREMIUM_CUSTOMER\"])[\"TOT_SALES\"].mean().sort_values(ascending=False)"
   ]
  },
  {
   "cell_type": "markdown",
   "id": "190ad21b",
   "metadata": {},
   "source": [
    "There's not much discrepancies among the average price of 1 purchase of 3 types of customers, yet mainstream customers are the one with the highest everage spending/purchase"
   ]
  },
  {
   "cell_type": "code",
   "execution_count": 44,
   "id": "162d9faa",
   "metadata": {},
   "outputs": [
    {
     "data": {
      "text/plain": [
       "LIFESTAGE               PREMIUM_CUSTOMER\n",
       "MIDAGE SINGLES/COUPLES  Mainstream          7.555460\n",
       "YOUNG SINGLES/COUPLES   Mainstream          7.476920\n",
       "RETIREES                Premium             7.369797\n",
       "OLDER SINGLES/COUPLES   Premium             7.359362\n",
       "RETIREES                Budget              7.356814\n",
       "OLDER SINGLES/COUPLES   Budget              7.341724\n",
       "NEW FAMILIES            Mainstream          7.226081\n",
       "                        Budget              7.211266\n",
       "OLDER SINGLES/COUPLES   Mainstream          7.197237\n",
       "YOUNG FAMILIES          Budget              7.192995\n",
       "OLDER FAMILIES          Budget              7.177701\n",
       "YOUNG FAMILIES          Premium             7.177286\n",
       "OLDER FAMILIES          Mainstream          7.170534\n",
       "RETIREES                Mainstream          7.159243\n",
       "NEW FAMILIES            Premium             7.146510\n",
       "OLDER FAMILIES          Premium             7.119838\n",
       "YOUNG FAMILIES          Mainstream          7.101069\n",
       "MIDAGE SINGLES/COUPLES  Premium             7.027026\n",
       "                        Budget              6.998052\n",
       "YOUNG SINGLES/COUPLES   Premium             6.549123\n",
       "                        Budget              6.532500\n",
       "Name: TOT_SALES, dtype: float64"
      ]
     },
     "execution_count": 44,
     "metadata": {},
     "output_type": "execute_result"
    }
   ],
   "source": [
    "df.groupby(by=[\"LIFESTAGE\", \"PREMIUM_CUSTOMER\"])[\"TOT_SALES\"].mean().sort_values(ascending=False)"
   ]
  },
  {
   "cell_type": "markdown",
   "id": "a53751f7",
   "metadata": {},
   "source": [
    "It can be seen that the Midage Singles/Couples and Young Singles/Couples (in the mainstream group) are willing to pay more per purchase of chips than their counterparts. While the Young Singles/Couples in the Premium and Budeget categories pay the least amount for a pack of chips. This difference, however, isn't huge enough to actually conclude the willingness to pay of different groups. To test for this, I will conduct a t test to see if this difference is statistically significant.\n",
    "\\\n",
    "**H0:** There is no difference between the 2 averages.\\\n",
    "**H1:** There is a difference between the 2 averages."
   ]
  },
  {
   "cell_type": "code",
   "execution_count": 60,
   "id": "cba6dc6f",
   "metadata": {},
   "outputs": [
    {
     "name": "stdout",
     "output_type": "stream",
     "text": [
      "Target avg per purchase: 7.476919997998699\n",
      "Others avg per purchase: 6.532500278924467\n",
      "t-statistic: 28.437959110560488\n",
      "p-value: 1.176369243769048e-173\n"
     ]
    }
   ],
   "source": [
    "# Target segment (Mainstream, Young Singles/Couples)\n",
    "target = df[(df['PREMIUM_CUSTOMER'] == 'Mainstream') &\n",
    "            (df['LIFESTAGE'] == 'YOUNG SINGLES/COUPLES')]\n",
    "\n",
    "# Other customers\n",
    "lowest = df[((df['PREMIUM_CUSTOMER'] == 'Budget') &\n",
    "              (df['LIFESTAGE'] == 'YOUNG SINGLES/COUPLES'))]\n",
    "\n",
    "# Compare average spend per purchase\n",
    "print(\"Target avg per purchase:\", target['TOT_SALES'].mean())\n",
    "print(\"Others avg per purchase:\", lowest['TOT_SALES'].mean())\n",
    "\n",
    "t_stat, p_val = ttest_ind(target['TOT_SALES'], lowest['TOT_SALES'], equal_var=False)\n",
    "print(\"t-statistic:\", t_stat)\n",
    "print(\"p-value:\", p_val)"
   ]
  },
  {
   "cell_type": "markdown",
   "id": "ba4cefc4",
   "metadata": {},
   "source": [
    "p-value < 0.05 -> the difference between 2 averages is statistically significant -> The Mainstream MIDAGE SINGLES/COUPLES in fact spends more per purchase of chips than the Budget YOUNG SINGLES/COUPLES. \\\n",
    "From the findings, the group that is among the top spender in terms of total sales and per pack of chips is the Mainstream YOUNG SINGLES/COUPLES. This is among the most potential group of loyal customers. I will deep dive into what types of chips are the most consumed by this segment."
   ]
  },
  {
   "cell_type": "code",
   "execution_count": 66,
   "id": "da075860",
   "metadata": {},
   "outputs": [
    {
     "data": {
      "image/png": "[encoded data removed]",
      "text/plain": [
       "<Figure size 1200x600 with 1 Axes>"
      ]
     },
     "metadata": {},
     "output_type": "display_data"
    }
   ],
   "source": [
    "customer_units = df.groupby(['LYLTY_CARD_NBR', 'LIFESTAGE', 'PREMIUM_CUSTOMER'])['PROD_QTY'].sum().reset_index()\n",
    "\n",
    "avg_units = customer_units.groupby(['LIFESTAGE', 'PREMIUM_CUSTOMER'])['PROD_QTY'].mean().reset_index()\n",
    "\n",
    "pivot_df = avg_units.pivot(index='LIFESTAGE', columns='PREMIUM_CUSTOMER', values='PROD_QTY')\n",
    "\n",
    "pivot_df.plot(kind='bar', width=0.8, figsize=(12,6))\n",
    "\n",
    "plt.title(\"Average Units of Chips Purchased per Customer\")\n",
    "plt.xlabel(\"Lifestage\")\n",
    "plt.ylabel(\"Average Units per Customer\")\n",
    "plt.xticks(rotation=45, ha='right')\n",
    "plt.legend(title=\"Customer Type\")\n",
    "plt.tight_layout()\n",
    "plt.show();"
   ]
  },
  {
   "cell_type": "markdown",
   "id": "ec078f5f",
   "metadata": {},
   "source": [
    "### **BRAND**"
   ]
  },
  {
   "cell_type": "code",
   "execution_count": 54,
   "id": "ad8f82bf",
   "metadata": {},
   "outputs": [
    {
     "data": {
      "image/png": "[encoded data removed]",
      "text/plain": [
       "<Figure size 1000x500 with 1 Axes>"
      ]
     },
     "metadata": {},
     "output_type": "display_data"
    }
   ],
   "source": [
    "df[(df['PREMIUM_CUSTOMER'] == 'Mainstream') & (df[\"LIFESTAGE\"] == 'YOUNG SINGLES/COUPLES')][\"BRAND\"].value_counts().head(10).plot(kind=\"bar\", figsize=(10,5))\n",
    "plt.xlabel(\"Brand\")\n",
    "plt.ylabel(\"Count\")\n",
    "plt.title(\"Top 10 Brands Purchased by Mainstream Young Singles/Couples\");"
   ]
  },
  {
   "cell_type": "markdown",
   "id": "d39cbdcc",
   "metadata": {},
   "source": [
    "Top 3 brands that are most popular among the MAINSTREAM - YOUNG COUPLES/SINGLES\n",
    "- Kettle\n",
    "- Pringles\n",
    "- Doritos"
   ]
  },
  {
   "cell_type": "code",
   "execution_count": 68,
   "id": "86d527a5",
   "metadata": {},
   "outputs": [
    {
     "name": "stdout",
     "output_type": "stream",
     "text": [
      "             BRAND  targetSegment     other  affinityToBrand\n",
      "5           Dorito       0.015368  0.012314         1.248009\n",
      "21        Tyrrells       0.030871  0.024795         1.245064\n",
      "20        Twisties       0.045186  0.036553         1.236167\n",
      "10          Kettle       0.193707  0.159769         1.212421\n",
      "19        Tostitos       0.044429  0.036651         1.212235\n",
      "13        Pringles       0.116840  0.097118         1.203067\n",
      "6          Doritos       0.112843  0.096754         1.166286\n",
      "4             Cobs       0.043673  0.037684         1.158919\n",
      "9        Infuzions       0.063282  0.055071         1.149096\n",
      "18           Thins       0.059068  0.054995         1.074061\n",
      "8      Grain Waves       0.032005  0.030098         1.063366\n",
      "3         Cheezels       0.017583  0.017995         0.977070\n",
      "15          Smiths       0.097475  0.126096         0.773017\n",
      "7           French       0.003862  0.005557         0.695042\n",
      "2          Cheetos       0.007860  0.011645         0.674932\n",
      "14   Red Rock Deli       0.047346  0.070890         0.667885\n",
      "12  Natural ChipCo       0.015611  0.024108         0.647550\n",
      "11             NCC       0.003565  0.005668         0.628997\n",
      "1              CCs       0.010939  0.018235         0.599853\n",
      "16           Snbts       0.003403  0.006357         0.535328\n",
      "22      Woolworths       0.029413  0.059496         0.494360\n",
      "17        Sunbites       0.002809  0.005784         0.485670\n",
      "0     Burger Rings       0.002863  0.006366         0.449726\n"
     ]
    }
   ],
   "source": [
    "# Define target vs others\n",
    "segment1 = df[(df['LIFESTAGE'] == \"YOUNG SINGLES/COUPLES\") & \n",
    "              (df['PREMIUM_CUSTOMER'] == \"Mainstream\")]\n",
    "\n",
    "other = df[~((df['LIFESTAGE'] == \"YOUNG SINGLES/COUPLES\") & \n",
    "             (df['PREMIUM_CUSTOMER'] == \"Mainstream\"))]\n",
    "\n",
    "# Compute total quantity \n",
    "quantity_segment1 = segment1['PROD_QTY'].sum()\n",
    "quantity_other = other['PROD_QTY'].sum()\n",
    "\n",
    "# Brand proportions in each group \n",
    "quantity_segment1_by_brand = (\n",
    "    segment1.groupby('BRAND')['PROD_QTY'].sum().reset_index()\n",
    ")\n",
    "quantity_segment1_by_brand['targetSegment'] = (\n",
    "    quantity_segment1_by_brand['PROD_QTY'] / quantity_segment1\n",
    ")\n",
    "quantity_segment1_by_brand.drop(columns='PROD_QTY', inplace=True)\n",
    "\n",
    "quantity_other_by_brand = (\n",
    "    other.groupby('BRAND')['PROD_QTY'].sum().reset_index()\n",
    ")\n",
    "quantity_other_by_brand['other'] = (\n",
    "    quantity_other_by_brand['PROD_QTY'] / quantity_other\n",
    ")\n",
    "quantity_other_by_brand.drop(columns='PROD_QTY', inplace=True)\n",
    "\n",
    "# Step 4. Merge + compute affinity\n",
    "brand_proportions = pd.merge(quantity_segment1_by_brand,\n",
    "                             quantity_other_by_brand,\n",
    "                             on='BRAND', how='inner')\n",
    "\n",
    "brand_proportions['affinityToBrand'] = (\n",
    "    brand_proportions['targetSegment'] / brand_proportions['other']\n",
    ")\n",
    "\n",
    "# Sort by affinity \n",
    "brand_proportions = brand_proportions.sort_values('affinityToBrand', ascending=False)\n",
    "\n",
    "print(brand_proportions)\n"
   ]
  },
  {
   "cell_type": "markdown",
   "id": "0b202fab",
   "metadata": {},
   "source": [
    "#### **Findings:**\n",
    "##### Strong over-indexed brands\n",
    "- **Dorito (1.25)**, **Tyrrells (1.25)**, **Twisties (1.24)**, **Kettle (1.21)**, **Tostitos (1.21)**, **Pringles (1.20)**\n",
    "  - These brands are **20–25% more likely** to be chosen by Mainstream Young Singles/Couples compared to the general population.  \n",
    "  - **Interpretation:** These are the “go-to” brands for this segment. They lean more towards **flavored, well-known snack brands** (Dorito, Pringles, Twisties) and **premium-style chips** (Kettle, Tyrrells).\n",
    "\n",
    "##### Moderate affinity\n",
    "- **Infuzions (1.15)**, **Cobs (1.16)**, **Thins (1.07)**, **Grain Waves (1.06)**\n",
    "  - These are slightly more popular than average, but not dramatically so.  \n",
    "  - Suggests some secondary preference.\n",
    "\n",
    "##### Neutral to under-indexed brands\n",
    "- **Cheezels (0.98)** → almost neutral, no strong preference.\n",
    "\n",
    "##### Strongly under-indexed brands\n",
    "- **Smiths (0.77)**, **Red Rock Deli (0.67)**, **Natural Chip Co (0.65)**, **Woolworths private label (0.49)**, **Sunbites (0.49)**, **Burger Rings (0.45)**\n",
    "  - These brands are **much less likely** to be bought by the target segment.  \n",
    "  - Clear avoidance of **traditional mainstream (Smiths)** and **value/private label brands (Woolworths)**.  \n",
    "  - Also weaker preference for **healthier or niche brands** (Natural Chip Co, Sunbites).\n"
   ]
  },
  {
   "cell_type": "markdown",
   "id": "26d81c27",
   "metadata": {},
   "source": [
    "### **SIZES**"
   ]
  },
  {
   "cell_type": "code",
   "execution_count": 63,
   "id": "3b89c695",
   "metadata": {},
   "outputs": [
    {
     "data": {
      "image/png": "[encoded data removed]",
      "text/plain": [
       "<Figure size 1000x500 with 1 Axes>"
      ]
     },
     "metadata": {},
     "output_type": "display_data"
    }
   ],
   "source": [
    "df[(df['PREMIUM_CUSTOMER'] == 'Mainstream') & (df[\"LIFESTAGE\"] == 'YOUNG SINGLES/COUPLES')][\"PROD_SIZE\"].value_counts().head(10).plot(kind=\"bar\", color =\"orange\", figsize=(10,5))\n",
    "plt.xlabel(\"Brand\")\n",
    "plt.ylabel(\"Count\")\n",
    "plt.title(\"Top 10 Product Sizes Purchased by Mainstream Young Singles/Couples\");"
   ]
  },
  {
   "cell_type": "code",
   "execution_count": 69,
   "id": "c19aee34",
   "metadata": {},
   "outputs": [
    {
     "name": "stdout",
     "output_type": "stream",
     "text": [
      "    PROD_SIZE  targetSegment     other  affinityToSize\n",
      "17        270       0.031141  0.024219        1.285812\n",
      "20        380       0.031465  0.024690        1.274398\n",
      "19        330       0.059959  0.048409        1.238597\n",
      "4         134       0.116840  0.097118        1.203067\n",
      "2         110       0.103984  0.086654        1.199992\n",
      "14        210       0.028494  0.024243        1.175337\n",
      "5         135       0.014450  0.012619        1.145117\n",
      "16        250       0.014045  0.012334        1.138685\n",
      "9         170       0.079028  0.078156        1.011151\n",
      "10        175       0.249480  0.260572        0.957431\n",
      "6         150       0.161864  0.169331        0.955901\n",
      "8         165       0.054450  0.060092        0.906107\n",
      "12        190       0.007319  0.012007        0.609579\n",
      "11        180       0.003511  0.005855        0.599712\n",
      "18        300       0.013937  0.023321        0.597594\n",
      "7         160       0.006266  0.011941        0.524768\n",
      "1          90       0.006212  0.012141        0.511672\n",
      "3         125       0.002944  0.005826        0.505329\n",
      "13        200       0.008778  0.018004        0.487544\n",
      "0          70       0.002971  0.006101        0.486929\n",
      "15        220       0.002863  0.006366        0.449726\n"
     ]
    }
   ],
   "source": [
    "quantity_segment1_by_size = (\n",
    "    segment1.groupby('PROD_SIZE')['PROD_QTY'].sum().reset_index()\n",
    ")\n",
    "quantity_segment1_by_size['targetSegment'] = (\n",
    "    quantity_segment1_by_size['PROD_QTY'] / quantity_segment1\n",
    ")\n",
    "quantity_segment1_by_size.drop(columns='PROD_QTY', inplace=True)\n",
    "\n",
    "quantity_other_by_size = (\n",
    "    other.groupby('PROD_SIZE')['PROD_QTY'].sum().reset_index()\n",
    ")\n",
    "quantity_other_by_size['other'] = (\n",
    "    quantity_other_by_size['PROD_QTY'] / quantity_other\n",
    ")\n",
    "quantity_other_by_size.drop(columns='PROD_QTY', inplace=True)\n",
    "\n",
    "# Merge + compute affinity\n",
    "size_proportions = pd.merge(quantity_segment1_by_size,\n",
    "                            quantity_other_by_size,\n",
    "                            on='PROD_SIZE', how='inner')\n",
    "\n",
    "size_proportions['affinityToSize'] = (\n",
    "    size_proportions['targetSegment'] / size_proportions['other']\n",
    ")\n",
    "\n",
    "# Sort by affinity\n",
    "size_proportions = size_proportions.sort_values('affinityToSize', ascending=False)\n",
    "\n",
    "print(size_proportions)"
   ]
  },
  {
   "cell_type": "markdown",
   "id": "b29c590d",
   "metadata": {},
   "source": [
    "#### **Findings**\n",
    "\n",
    "##### Strongly Over-Indexed Pack Sizes\n",
    "- **270g (1.29)**, **380g (1.27)**, **330g (1.24)**  \n",
    "  - The target segment is **24–29% more likely** than the general population to purchase **larger pack sizes**.  \n",
    "  - Suggests a preference for **bigger sharing packs**.  \n",
    "\n",
    "- **134g (1.20)**, **110g (1.20)**, **210g (1.18)**  \n",
    "  - Medium sizes are also **slightly more popular** than average.  \n",
    "\n",
    "##### Neutral to Slightly Over-Indexed\n",
    "- **170g (1.01)** → about the same as the population.  \n",
    "\n",
    "##### Under-Indexed Pack Sizes\n",
    "- **175g (0.96)**, **150g (0.96)**  \n",
    "  - These are among the **most common/popular pack sizes overall**, but this segment buys them **slightly less than the population average**.  \n",
    "\n",
    "- **165g (0.91)** → also under-indexed.  \n",
    "\n",
    "##### Strongly Under-Indexed Pack Sizes\n",
    "- **190g (0.61)**, **180g (0.60)**, **300g (0.60)**, **160g (0.52)**, **90g (0.51)**, **125g (0.51)**, **200g (0.49)**, **70g (0.49)**, **220g (0.45)**  \n",
    "  - This group is **40–55% less likely** to purchase these pack sizes compared to the general population.  \n",
    "  - Indicates **avoidance of niche or less standard sizes**.  "
   ]
  },
  {
   "cell_type": "markdown",
   "id": "21458078",
   "metadata": {},
   "source": [
    "# **EXECUTIVE SUMMARY**\n",
    "\n",
    "## 1. Seasonal Sales Pattern\n",
    "- **Chips sales spike during the Christmas period** and return to normal levels afterward.  \n",
    "- This highlights the importance of holiday promotions and seasonal marketing campaigns.  \n",
    "\n",
    "\n",
    "## 2. Customer Segments Driving Sales\n",
    "- The **largest chip consumers** (by total sales) are **Budget and Mainstream customers**, with **Budget – Older Families** leading, followed by **Mainstream – Young Singles/Couples** and **Retirees**.  \n",
    "- However, this higher sales volume is largely due to **segment size**, not necessarily higher spending per customer.  \n",
    "\n",
    "\n",
    "## 3. Willingness to Pay\n",
    "- **Mainstream Midage and Young Singles/Couples** show a **higher spend per purchase** compared to their counterparts.  \n",
    "- **Young Singles/Couples in the Premium and Budget categories** spend the least per pack.  \n",
    "- A t-test confirms this difference is **statistically significant**.  \n",
    "\n",
    "\n",
    "## 4. Brand Affinity (Mainstream Young Singles/Couples)\n",
    "- This segment is **20–25% more likely** to purchase: **Doritos, Tyrrells, Twisties, Kettle, Tostitos, and Pringles**.  \n",
    "- They **under-index** on **traditional/value brands** such as **Smiths, Woolworths private label, Red Rock Deli, and Natural Chip Co.**  \n",
    "- **Insight:** They prefer **bold, fun, branded snacks** over traditional or budget options.  \n",
    "\n",
    "\n",
    "## 5. Pack Size Affinity (Mainstream Young Singles/Couples)\n",
    "- Strongly over-index on **larger sharing packs** (**270g, 330g, 380g**) and some **medium sizes** (~110–134g, 210g).  \n",
    "- Slightly under-index on **standard popular sizes** (150g, 175g).  \n",
    "- Strongly avoid **very small packs (70g, 90g, 125g)** and many **non-standard pack sizes** (180g, 190g, 200g, 220g, 300g).  \n",
    "- **Insight:** They show a **clear preference for larger formats**, aligning with **social snacking and sharing occasions**.  \n",
    "\n",
    "\n",
    "# 📌 Strategic Implications\n",
    "- **Seasonal Strategy:** Focus on Christmas campaigns to capture peak demand.  \n",
    "- **Targeting:** Tailor marketing to **Mainstream Young Singles/Couples**, who are willing to spend more per purchase and show distinct brand/size preferences.  \n",
    "- **Brand Partnerships:** Prioritize promotions with **Doritos, Pringles, Kettle, Tyrrells, and Twisties** for this audience.  \n",
    "- **Product Focus:** Push **larger pack formats** for this segment, positioning them as **social and sharing snacks**.  \n",
    "- **De-prioritize** smaller or value/private-label packs for this demographic, as they show weak affinity."
   ]
  },
  {
   "cell_type": "markdown",
   "id": "309c76f2",
   "metadata": {},
   "source": []
  }
 ],
 "metadata": {
  "kernelspec": {
   "display_name": "cusseg",
   "language": "python",
   "name": "python3"
  },
  "language_info": {
   "codemirror_mode": {
    "name": "ipython",
    "version": 3
   },
   "file_extension": ".py",
   "mimetype": "text/x-python",
   "name": "python",
   "nbconvert_exporter": "python",
   "pygments_lexer": "ipython3",
   "version": "3.13.5"
  }
 },
 "nbformat": 4,
 "nbformat_minor": 5
}
